{
 "cells": [
  {
   "cell_type": "markdown",
   "metadata": {
    "id": "SCsg_PHYLLfl"
   },
   "source": [
    "## Build a model to create a metric for judging team based on team level information ##"
   ]
  },
  {
   "cell_type": "code",
   "execution_count": 2,
   "metadata": {
    "colab": {
     "base_uri": "https://localhost:8080/"
    },
    "id": "k06xxSRiMFEx",
    "outputId": "1f5a34fe-4b95-4bd1-a243-fd781c3532a3"
   },
   "outputs": [],
   "source": [
    "import pandas as pd\n",
    "pd.options.mode.chained_assignment = None  # default='warn'\n",
    "from mip import Model, xsum, maximize, BINARY"
   ]
  },
  {
   "cell_type": "code",
   "execution_count": 3,
   "metadata": {
    "id": "4jkAA9rxLLfm"
   },
   "outputs": [],
   "source": [
    "teams = pd.read_csv(\"../data/Teams.csv\")\n",
    "teams = teams[(teams['yearID'] >= 1961) & (teams['yearID'] <= 2001)]\n"
   ]
  },
  {
   "cell_type": "markdown",
   "metadata": {
    "id": "IlLUUVtPLLfn"
   },
   "source": [
    "## Extracting features for teams ##"
   ]
  },
  {
   "cell_type": "code",
   "execution_count": 10,
   "metadata": {
    "id": "uklUnuSSLLfo"
   },
   "outputs": [],
   "source": [
    "# These columns already exist\n",
    "teams[\"BB\"] = teams[\"BB\"]/teams[\"G\"]\n",
    "teams[\"singles\"] = (teams[\"H\"] - teams[\"2B\"] - teams[\"3B\"] - teams[\"HR\"])/teams[\"G\"]\n",
    "teams[\"doubles\"] = teams[\"2B\"]/teams[\"G\"]\n",
    "teams[\"triples\"] = teams[\"3B\"]/teams[\"G\"]\n",
    "teams[\"HR\"] = teams[\"HR\"]/teams[\"G\"]\n",
    "teams[\"R\"] = teams[\"R\"]/teams[\"G\"]"
   ]
  },
  {
   "cell_type": "code",
   "execution_count": 11,
   "metadata": {
    "colab": {
     "base_uri": "https://localhost:8080/"
    },
    "id": "7wY_igBwLLfp",
    "outputId": "5528c76b-e09a-4586-a5f1-db70c03cc2e9"
   },
   "outputs": [
    {
     "data": {
      "text/plain": [
       "(1026, 51)"
      ]
     },
     "execution_count": 11,
     "metadata": {},
     "output_type": "execute_result"
    }
   ],
   "source": [
    "teams.shape"
   ]
  },
  {
   "cell_type": "markdown",
   "metadata": {
    "id": "GoPubepeLLfq"
   },
   "source": [
    "## Model building ##"
   ]
  },
  {
   "cell_type": "code",
   "execution_count": 12,
   "metadata": {
    "id": "C23e53W2LLfr"
   },
   "outputs": [],
   "source": [
    "team_features = teams[[\"BB\",\"singles\",\"doubles\",\"triples\",\"HR\"]]\n",
    "team_runs = teams[\"R\"]"
   ]
  },
  {
   "cell_type": "markdown",
   "metadata": {
    "id": "5S2y79NCPAOd"
   },
   "source": [
    "# **## Your code here ##**\n",
    "Change the LinearRegression() to use a different model from scikit-learn. Remember you need to load the model. Links to other model's documentation is provided below. "
   ]
  },
  {
   "cell_type": "code",
   "execution_count": 19,
   "metadata": {
    "colab": {
     "base_uri": "https://localhost:8080/"
    },
    "id": "3RjG7kcmOubw",
    "outputId": "044ec73f-8bdc-467c-a3f8-2294942c16da"
   },
   "outputs": [
    {
     "data": {
      "text/html": [
       "<style>#sk-container-id-5 {\n",
       "  /* Definition of color scheme common for light and dark mode */\n",
       "  --sklearn-color-text: #000;\n",
       "  --sklearn-color-text-muted: #666;\n",
       "  --sklearn-color-line: gray;\n",
       "  /* Definition of color scheme for unfitted estimators */\n",
       "  --sklearn-color-unfitted-level-0: #fff5e6;\n",
       "  --sklearn-color-unfitted-level-1: #f6e4d2;\n",
       "  --sklearn-color-unfitted-level-2: #ffe0b3;\n",
       "  --sklearn-color-unfitted-level-3: chocolate;\n",
       "  /* Definition of color scheme for fitted estimators */\n",
       "  --sklearn-color-fitted-level-0: #f0f8ff;\n",
       "  --sklearn-color-fitted-level-1: #d4ebff;\n",
       "  --sklearn-color-fitted-level-2: #b3dbfd;\n",
       "  --sklearn-color-fitted-level-3: cornflowerblue;\n",
       "\n",
       "  /* Specific color for light theme */\n",
       "  --sklearn-color-text-on-default-background: var(--sg-text-color, var(--theme-code-foreground, var(--jp-content-font-color1, black)));\n",
       "  --sklearn-color-background: var(--sg-background-color, var(--theme-background, var(--jp-layout-color0, white)));\n",
       "  --sklearn-color-border-box: var(--sg-text-color, var(--theme-code-foreground, var(--jp-content-font-color1, black)));\n",
       "  --sklearn-color-icon: #696969;\n",
       "\n",
       "  @media (prefers-color-scheme: dark) {\n",
       "    /* Redefinition of color scheme for dark theme */\n",
       "    --sklearn-color-text-on-default-background: var(--sg-text-color, var(--theme-code-foreground, var(--jp-content-font-color1, white)));\n",
       "    --sklearn-color-background: var(--sg-background-color, var(--theme-background, var(--jp-layout-color0, #111)));\n",
       "    --sklearn-color-border-box: var(--sg-text-color, var(--theme-code-foreground, var(--jp-content-font-color1, white)));\n",
       "    --sklearn-color-icon: #878787;\n",
       "  }\n",
       "}\n",
       "\n",
       "#sk-container-id-5 {\n",
       "  color: var(--sklearn-color-text);\n",
       "}\n",
       "\n",
       "#sk-container-id-5 pre {\n",
       "  padding: 0;\n",
       "}\n",
       "\n",
       "#sk-container-id-5 input.sk-hidden--visually {\n",
       "  border: 0;\n",
       "  clip: rect(1px 1px 1px 1px);\n",
       "  clip: rect(1px, 1px, 1px, 1px);\n",
       "  height: 1px;\n",
       "  margin: -1px;\n",
       "  overflow: hidden;\n",
       "  padding: 0;\n",
       "  position: absolute;\n",
       "  width: 1px;\n",
       "}\n",
       "\n",
       "#sk-container-id-5 div.sk-dashed-wrapped {\n",
       "  border: 1px dashed var(--sklearn-color-line);\n",
       "  margin: 0 0.4em 0.5em 0.4em;\n",
       "  box-sizing: border-box;\n",
       "  padding-bottom: 0.4em;\n",
       "  background-color: var(--sklearn-color-background);\n",
       "}\n",
       "\n",
       "#sk-container-id-5 div.sk-container {\n",
       "  /* jupyter's `normalize.less` sets `[hidden] { display: none; }`\n",
       "     but bootstrap.min.css set `[hidden] { display: none !important; }`\n",
       "     so we also need the `!important` here to be able to override the\n",
       "     default hidden behavior on the sphinx rendered scikit-learn.org.\n",
       "     See: https://github.com/scikit-learn/scikit-learn/issues/21755 */\n",
       "  display: inline-block !important;\n",
       "  position: relative;\n",
       "}\n",
       "\n",
       "#sk-container-id-5 div.sk-text-repr-fallback {\n",
       "  display: none;\n",
       "}\n",
       "\n",
       "div.sk-parallel-item,\n",
       "div.sk-serial,\n",
       "div.sk-item {\n",
       "  /* draw centered vertical line to link estimators */\n",
       "  background-image: linear-gradient(var(--sklearn-color-text-on-default-background), var(--sklearn-color-text-on-default-background));\n",
       "  background-size: 2px 100%;\n",
       "  background-repeat: no-repeat;\n",
       "  background-position: center center;\n",
       "}\n",
       "\n",
       "/* Parallel-specific style estimator block */\n",
       "\n",
       "#sk-container-id-5 div.sk-parallel-item::after {\n",
       "  content: \"\";\n",
       "  width: 100%;\n",
       "  border-bottom: 2px solid var(--sklearn-color-text-on-default-background);\n",
       "  flex-grow: 1;\n",
       "}\n",
       "\n",
       "#sk-container-id-5 div.sk-parallel {\n",
       "  display: flex;\n",
       "  align-items: stretch;\n",
       "  justify-content: center;\n",
       "  background-color: var(--sklearn-color-background);\n",
       "  position: relative;\n",
       "}\n",
       "\n",
       "#sk-container-id-5 div.sk-parallel-item {\n",
       "  display: flex;\n",
       "  flex-direction: column;\n",
       "}\n",
       "\n",
       "#sk-container-id-5 div.sk-parallel-item:first-child::after {\n",
       "  align-self: flex-end;\n",
       "  width: 50%;\n",
       "}\n",
       "\n",
       "#sk-container-id-5 div.sk-parallel-item:last-child::after {\n",
       "  align-self: flex-start;\n",
       "  width: 50%;\n",
       "}\n",
       "\n",
       "#sk-container-id-5 div.sk-parallel-item:only-child::after {\n",
       "  width: 0;\n",
       "}\n",
       "\n",
       "/* Serial-specific style estimator block */\n",
       "\n",
       "#sk-container-id-5 div.sk-serial {\n",
       "  display: flex;\n",
       "  flex-direction: column;\n",
       "  align-items: center;\n",
       "  background-color: var(--sklearn-color-background);\n",
       "  padding-right: 1em;\n",
       "  padding-left: 1em;\n",
       "}\n",
       "\n",
       "\n",
       "/* Toggleable style: style used for estimator/Pipeline/ColumnTransformer box that is\n",
       "clickable and can be expanded/collapsed.\n",
       "- Pipeline and ColumnTransformer use this feature and define the default style\n",
       "- Estimators will overwrite some part of the style using the `sk-estimator` class\n",
       "*/\n",
       "\n",
       "/* Pipeline and ColumnTransformer style (default) */\n",
       "\n",
       "#sk-container-id-5 div.sk-toggleable {\n",
       "  /* Default theme specific background. It is overwritten whether we have a\n",
       "  specific estimator or a Pipeline/ColumnTransformer */\n",
       "  background-color: var(--sklearn-color-background);\n",
       "}\n",
       "\n",
       "/* Toggleable label */\n",
       "#sk-container-id-5 label.sk-toggleable__label {\n",
       "  cursor: pointer;\n",
       "  display: flex;\n",
       "  width: 100%;\n",
       "  margin-bottom: 0;\n",
       "  padding: 0.5em;\n",
       "  box-sizing: border-box;\n",
       "  text-align: center;\n",
       "  align-items: start;\n",
       "  justify-content: space-between;\n",
       "  gap: 0.5em;\n",
       "}\n",
       "\n",
       "#sk-container-id-5 label.sk-toggleable__label .caption {\n",
       "  font-size: 0.6rem;\n",
       "  font-weight: lighter;\n",
       "  color: var(--sklearn-color-text-muted);\n",
       "}\n",
       "\n",
       "#sk-container-id-5 label.sk-toggleable__label-arrow:before {\n",
       "  /* Arrow on the left of the label */\n",
       "  content: \"▸\";\n",
       "  float: left;\n",
       "  margin-right: 0.25em;\n",
       "  color: var(--sklearn-color-icon);\n",
       "}\n",
       "\n",
       "#sk-container-id-5 label.sk-toggleable__label-arrow:hover:before {\n",
       "  color: var(--sklearn-color-text);\n",
       "}\n",
       "\n",
       "/* Toggleable content - dropdown */\n",
       "\n",
       "#sk-container-id-5 div.sk-toggleable__content {\n",
       "  max-height: 0;\n",
       "  max-width: 0;\n",
       "  overflow: hidden;\n",
       "  text-align: left;\n",
       "  /* unfitted */\n",
       "  background-color: var(--sklearn-color-unfitted-level-0);\n",
       "}\n",
       "\n",
       "#sk-container-id-5 div.sk-toggleable__content.fitted {\n",
       "  /* fitted */\n",
       "  background-color: var(--sklearn-color-fitted-level-0);\n",
       "}\n",
       "\n",
       "#sk-container-id-5 div.sk-toggleable__content pre {\n",
       "  margin: 0.2em;\n",
       "  border-radius: 0.25em;\n",
       "  color: var(--sklearn-color-text);\n",
       "  /* unfitted */\n",
       "  background-color: var(--sklearn-color-unfitted-level-0);\n",
       "}\n",
       "\n",
       "#sk-container-id-5 div.sk-toggleable__content.fitted pre {\n",
       "  /* unfitted */\n",
       "  background-color: var(--sklearn-color-fitted-level-0);\n",
       "}\n",
       "\n",
       "#sk-container-id-5 input.sk-toggleable__control:checked~div.sk-toggleable__content {\n",
       "  /* Expand drop-down */\n",
       "  max-height: 200px;\n",
       "  max-width: 100%;\n",
       "  overflow: auto;\n",
       "}\n",
       "\n",
       "#sk-container-id-5 input.sk-toggleable__control:checked~label.sk-toggleable__label-arrow:before {\n",
       "  content: \"▾\";\n",
       "}\n",
       "\n",
       "/* Pipeline/ColumnTransformer-specific style */\n",
       "\n",
       "#sk-container-id-5 div.sk-label input.sk-toggleable__control:checked~label.sk-toggleable__label {\n",
       "  color: var(--sklearn-color-text);\n",
       "  background-color: var(--sklearn-color-unfitted-level-2);\n",
       "}\n",
       "\n",
       "#sk-container-id-5 div.sk-label.fitted input.sk-toggleable__control:checked~label.sk-toggleable__label {\n",
       "  background-color: var(--sklearn-color-fitted-level-2);\n",
       "}\n",
       "\n",
       "/* Estimator-specific style */\n",
       "\n",
       "/* Colorize estimator box */\n",
       "#sk-container-id-5 div.sk-estimator input.sk-toggleable__control:checked~label.sk-toggleable__label {\n",
       "  /* unfitted */\n",
       "  background-color: var(--sklearn-color-unfitted-level-2);\n",
       "}\n",
       "\n",
       "#sk-container-id-5 div.sk-estimator.fitted input.sk-toggleable__control:checked~label.sk-toggleable__label {\n",
       "  /* fitted */\n",
       "  background-color: var(--sklearn-color-fitted-level-2);\n",
       "}\n",
       "\n",
       "#sk-container-id-5 div.sk-label label.sk-toggleable__label,\n",
       "#sk-container-id-5 div.sk-label label {\n",
       "  /* The background is the default theme color */\n",
       "  color: var(--sklearn-color-text-on-default-background);\n",
       "}\n",
       "\n",
       "/* On hover, darken the color of the background */\n",
       "#sk-container-id-5 div.sk-label:hover label.sk-toggleable__label {\n",
       "  color: var(--sklearn-color-text);\n",
       "  background-color: var(--sklearn-color-unfitted-level-2);\n",
       "}\n",
       "\n",
       "/* Label box, darken color on hover, fitted */\n",
       "#sk-container-id-5 div.sk-label.fitted:hover label.sk-toggleable__label.fitted {\n",
       "  color: var(--sklearn-color-text);\n",
       "  background-color: var(--sklearn-color-fitted-level-2);\n",
       "}\n",
       "\n",
       "/* Estimator label */\n",
       "\n",
       "#sk-container-id-5 div.sk-label label {\n",
       "  font-family: monospace;\n",
       "  font-weight: bold;\n",
       "  display: inline-block;\n",
       "  line-height: 1.2em;\n",
       "}\n",
       "\n",
       "#sk-container-id-5 div.sk-label-container {\n",
       "  text-align: center;\n",
       "}\n",
       "\n",
       "/* Estimator-specific */\n",
       "#sk-container-id-5 div.sk-estimator {\n",
       "  font-family: monospace;\n",
       "  border: 1px dotted var(--sklearn-color-border-box);\n",
       "  border-radius: 0.25em;\n",
       "  box-sizing: border-box;\n",
       "  margin-bottom: 0.5em;\n",
       "  /* unfitted */\n",
       "  background-color: var(--sklearn-color-unfitted-level-0);\n",
       "}\n",
       "\n",
       "#sk-container-id-5 div.sk-estimator.fitted {\n",
       "  /* fitted */\n",
       "  background-color: var(--sklearn-color-fitted-level-0);\n",
       "}\n",
       "\n",
       "/* on hover */\n",
       "#sk-container-id-5 div.sk-estimator:hover {\n",
       "  /* unfitted */\n",
       "  background-color: var(--sklearn-color-unfitted-level-2);\n",
       "}\n",
       "\n",
       "#sk-container-id-5 div.sk-estimator.fitted:hover {\n",
       "  /* fitted */\n",
       "  background-color: var(--sklearn-color-fitted-level-2);\n",
       "}\n",
       "\n",
       "/* Specification for estimator info (e.g. \"i\" and \"?\") */\n",
       "\n",
       "/* Common style for \"i\" and \"?\" */\n",
       "\n",
       ".sk-estimator-doc-link,\n",
       "a:link.sk-estimator-doc-link,\n",
       "a:visited.sk-estimator-doc-link {\n",
       "  float: right;\n",
       "  font-size: smaller;\n",
       "  line-height: 1em;\n",
       "  font-family: monospace;\n",
       "  background-color: var(--sklearn-color-background);\n",
       "  border-radius: 1em;\n",
       "  height: 1em;\n",
       "  width: 1em;\n",
       "  text-decoration: none !important;\n",
       "  margin-left: 0.5em;\n",
       "  text-align: center;\n",
       "  /* unfitted */\n",
       "  border: var(--sklearn-color-unfitted-level-1) 1pt solid;\n",
       "  color: var(--sklearn-color-unfitted-level-1);\n",
       "}\n",
       "\n",
       ".sk-estimator-doc-link.fitted,\n",
       "a:link.sk-estimator-doc-link.fitted,\n",
       "a:visited.sk-estimator-doc-link.fitted {\n",
       "  /* fitted */\n",
       "  border: var(--sklearn-color-fitted-level-1) 1pt solid;\n",
       "  color: var(--sklearn-color-fitted-level-1);\n",
       "}\n",
       "\n",
       "/* On hover */\n",
       "div.sk-estimator:hover .sk-estimator-doc-link:hover,\n",
       ".sk-estimator-doc-link:hover,\n",
       "div.sk-label-container:hover .sk-estimator-doc-link:hover,\n",
       ".sk-estimator-doc-link:hover {\n",
       "  /* unfitted */\n",
       "  background-color: var(--sklearn-color-unfitted-level-3);\n",
       "  color: var(--sklearn-color-background);\n",
       "  text-decoration: none;\n",
       "}\n",
       "\n",
       "div.sk-estimator.fitted:hover .sk-estimator-doc-link.fitted:hover,\n",
       ".sk-estimator-doc-link.fitted:hover,\n",
       "div.sk-label-container:hover .sk-estimator-doc-link.fitted:hover,\n",
       ".sk-estimator-doc-link.fitted:hover {\n",
       "  /* fitted */\n",
       "  background-color: var(--sklearn-color-fitted-level-3);\n",
       "  color: var(--sklearn-color-background);\n",
       "  text-decoration: none;\n",
       "}\n",
       "\n",
       "/* Span, style for the box shown on hovering the info icon */\n",
       ".sk-estimator-doc-link span {\n",
       "  display: none;\n",
       "  z-index: 9999;\n",
       "  position: relative;\n",
       "  font-weight: normal;\n",
       "  right: .2ex;\n",
       "  padding: .5ex;\n",
       "  margin: .5ex;\n",
       "  width: min-content;\n",
       "  min-width: 20ex;\n",
       "  max-width: 50ex;\n",
       "  color: var(--sklearn-color-text);\n",
       "  box-shadow: 2pt 2pt 4pt #999;\n",
       "  /* unfitted */\n",
       "  background: var(--sklearn-color-unfitted-level-0);\n",
       "  border: .5pt solid var(--sklearn-color-unfitted-level-3);\n",
       "}\n",
       "\n",
       ".sk-estimator-doc-link.fitted span {\n",
       "  /* fitted */\n",
       "  background: var(--sklearn-color-fitted-level-0);\n",
       "  border: var(--sklearn-color-fitted-level-3);\n",
       "}\n",
       "\n",
       ".sk-estimator-doc-link:hover span {\n",
       "  display: block;\n",
       "}\n",
       "\n",
       "/* \"?\"-specific style due to the `<a>` HTML tag */\n",
       "\n",
       "#sk-container-id-5 a.estimator_doc_link {\n",
       "  float: right;\n",
       "  font-size: 1rem;\n",
       "  line-height: 1em;\n",
       "  font-family: monospace;\n",
       "  background-color: var(--sklearn-color-background);\n",
       "  border-radius: 1rem;\n",
       "  height: 1rem;\n",
       "  width: 1rem;\n",
       "  text-decoration: none;\n",
       "  /* unfitted */\n",
       "  color: var(--sklearn-color-unfitted-level-1);\n",
       "  border: var(--sklearn-color-unfitted-level-1) 1pt solid;\n",
       "}\n",
       "\n",
       "#sk-container-id-5 a.estimator_doc_link.fitted {\n",
       "  /* fitted */\n",
       "  border: var(--sklearn-color-fitted-level-1) 1pt solid;\n",
       "  color: var(--sklearn-color-fitted-level-1);\n",
       "}\n",
       "\n",
       "/* On hover */\n",
       "#sk-container-id-5 a.estimator_doc_link:hover {\n",
       "  /* unfitted */\n",
       "  background-color: var(--sklearn-color-unfitted-level-3);\n",
       "  color: var(--sklearn-color-background);\n",
       "  text-decoration: none;\n",
       "}\n",
       "\n",
       "#sk-container-id-5 a.estimator_doc_link.fitted:hover {\n",
       "  /* fitted */\n",
       "  background-color: var(--sklearn-color-fitted-level-3);\n",
       "}\n",
       "</style><div id=\"sk-container-id-5\" class=\"sk-top-container\"><div class=\"sk-text-repr-fallback\"><pre>LinearRegression()</pre><b>In a Jupyter environment, please rerun this cell to show the HTML representation or trust the notebook. <br />On GitHub, the HTML representation is unable to render, please try loading this page with nbviewer.org.</b></div><div class=\"sk-container\" hidden><div class=\"sk-item\"><div class=\"sk-estimator fitted sk-toggleable\"><input class=\"sk-toggleable__control sk-hidden--visually\" id=\"sk-estimator-id-5\" type=\"checkbox\" checked><label for=\"sk-estimator-id-5\" class=\"sk-toggleable__label fitted sk-toggleable__label-arrow\"><div><div>LinearRegression</div></div><div><a class=\"sk-estimator-doc-link fitted\" rel=\"noreferrer\" target=\"_blank\" href=\"https://scikit-learn.org/1.6/modules/generated/sklearn.linear_model.LinearRegression.html\">?<span>Documentation for LinearRegression</span></a><span class=\"sk-estimator-doc-link fitted\">i<span>Fitted</span></span></div></label><div class=\"sk-toggleable__content fitted\"><pre>LinearRegression()</pre></div> </div></div></div></div>"
      ],
      "text/plain": [
       "LinearRegression()"
      ]
     },
     "execution_count": 19,
     "metadata": {},
     "output_type": "execute_result"
    }
   ],
   "source": [
    "# First, make sure scikit-learn is installed\n",
    "# !pip install scikit-learn  # Uncomment this line if you're in a Jupyter notebook\n",
    "\n",
    "# Then import the necessary modules\n",
    "from sklearn.linear_model import LinearRegression\n",
    "from sklearn.ensemble import RandomForestRegressor\n",
    "\n",
    "# Create the model instances\n",
    "model = RandomForestRegressor()\n",
    "linear_model = LinearRegression()\n",
    "\n",
    "# Fit the models\n",
    "model.fit(team_features, team_runs)\n",
    "linear_model.fit(team_features, team_runs)\n",
    "#^^^^^^^^^^^^^^^^^"
   ]
  },
  {
   "cell_type": "markdown",
   "metadata": {
    "id": "zHqKYxsILwgR"
   },
   "source": [
    "Other possible models which can be built :\n",
    "\n",
    "randomforest : https://scikit-learn.org/stable/modules/generated/sklearn.ensemble.RandomForestRegressor.html \n",
    "\n",
    "Gradient boosting : https://scikit-learn.org/stable/modules/generated/sklearn.ensemble.GradientBoostingRegressor.html \n",
    "\n",
    "support vector machine : https://scikit-learn.org/stable/auto_examples/svm/plot_svm_regression.html \n",
    "\n",
    "kNN fit : https://scikit-learn.org/stable/modules/generated/sklearn.neighbors.KNeighborsRegressor.html"
   ]
  },
  {
   "cell_type": "markdown",
   "metadata": {
    "id": "pUyXiw5rLLfs"
   },
   "source": [
    "Instead of using batting average, or just number of HR,as a measure of picking players, we can use our fitted model to form a metric that relates more directly to run production.\n",
    "\n",
    "Specifically, to define a metric for player A, we imagine a team made up of players just like player A and use our fitted regression model to predict how many runs this team would produce "
   ]
  },
  {
   "cell_type": "markdown",
   "metadata": {
    "id": "1_UY0TEQLLfs"
   },
   "source": [
    "To define a player-specific metric, we have a bit more work to do. A challenge here is that we derived the metric for teams, based on team-level summary statistics. \n",
    "\n",
    "For example, the HR value that is entered into the equation is HR per game for the entire team "
   ]
  },
  {
   "cell_type": "markdown",
   "metadata": {
    "id": "Qv8-kxTOLLft"
   },
   "source": [
    "We compute the per-plate-appearance rates for players available in 2002 on data from 1997-2001. \n",
    "To avoid small sample artifacts, we filter players with less than 1000 plate appearances per year.\n",
    "\n",
    "\n",
    "Reference : https://rafalab.github.io/dsbook/linear-models.html#linear-regression-in-the-tidyverse"
   ]
  },
  {
   "cell_type": "code",
   "execution_count": 21,
   "metadata": {
    "id": "bs92ayvZLLft"
   },
   "outputs": [],
   "source": [
    "batting=pd.read_csv(\"../data/Batting.csv\")"
   ]
  },
  {
   "cell_type": "code",
   "execution_count": 22,
   "metadata": {
    "id": "ktNJIjZaLLft"
   },
   "outputs": [],
   "source": [
    "def extract_pa_per_game(df):\n",
    "    \n",
    "    pa_per_game = (df['AB'].sum() + df[\"BB\"].sum())/df[\"G\"].max()\n",
    "    \n",
    "    return pa_per_game\n"
   ]
  },
  {
   "cell_type": "code",
   "execution_count": 23,
   "metadata": {
    "id": "R1V4oI7dLLfu"
   },
   "outputs": [
    {
     "name": "stderr",
     "output_type": "stream",
     "text": [
      "C:\\Users\\ianka\\AppData\\Local\\Temp\\ipykernel_29136\\1691671636.py:1: DeprecationWarning: DataFrameGroupBy.apply operated on the grouping columns. This behavior is deprecated, and in a future version of pandas the grouping columns will be excluded from the operation. Either pass `include_groups=False` to exclude the groupings or explicitly select the grouping columns after groupby to silence this warning.\n",
      "  pa_per_game=batting[batting.yearID ==2002].groupby('teamID').apply(extract_pa_per_game)\n"
     ]
    }
   ],
   "source": [
    "pa_per_game=batting[batting.yearID ==2002].groupby('teamID').apply(extract_pa_per_game)\n",
    "average_pa_teamwise = pa_per_game.mean()"
   ]
  },
  {
   "cell_type": "code",
   "execution_count": 24,
   "metadata": {
    "colab": {
     "base_uri": "https://localhost:8080/"
    },
    "id": "kq-c55A1LLfu",
    "outputId": "4ad6b971-6300-47e0-d4de-ea3a3a4033ce"
   },
   "outputs": [
    {
     "data": {
      "text/plain": [
       "np.float64(38.746568669706456)"
      ]
     },
     "execution_count": 24,
     "metadata": {},
     "output_type": "execute_result"
    }
   ],
   "source": [
    "average_pa_teamwise"
   ]
  },
  {
   "cell_type": "code",
   "execution_count": 26,
   "metadata": {
    "id": "DUbmNOlnLLfu"
   },
   "outputs": [],
   "source": [
    "batting[\"PA\"] = batting[\"AB\"] + batting[\"BB\"]\n",
    "batting[\"singles\"] = batting[\"H\"] - batting[\"2B\"] - batting[\"3B\"] - batting[\"HR\"]\n"
   ]
  },
  {
   "cell_type": "code",
   "execution_count": 43,
   "metadata": {
    "id": "usXPsxWTLLfv"
   },
   "outputs": [],
   "source": [
    "players = batting[(batting.yearID >= 1997) & (batting.yearID <= 2001)].groupby('playerID').agg(\n",
    "    PA_sum=(\"PA\", \"sum\"),\n",
    "    HR_sum=(\"HR\", \"sum\"),\n",
    "    BB_sum=(\"BB\", \"sum\"),\n",
    "    singles_sum=(\"singles\", \"sum\"),\n",
    "    doubles_sum=(\"2B\", \"sum\"),  # FIXED\n",
    "    triples_sum=(\"3B\", \"sum\"),  # FIXED\n",
    "    AB_sum=(\"AB\", \"sum\"),\n",
    "    H_sum=(\"H\", \"sum\")\n",
    ")\n",
    "\n"
   ]
  },
  {
   "cell_type": "code",
   "execution_count": 30,
   "metadata": {
    "colab": {
     "base_uri": "https://localhost:8080/",
     "height": 227
    },
    "id": "Ma1zmdlWLLfv",
    "outputId": "154e50b7-c629-4f03-ef33-169a6b63d686"
   },
   "outputs": [
    {
     "data": {
      "text/html": [
       "<div>\n",
       "<style scoped>\n",
       "    .dataframe tbody tr th:only-of-type {\n",
       "        vertical-align: middle;\n",
       "    }\n",
       "\n",
       "    .dataframe tbody tr th {\n",
       "        vertical-align: top;\n",
       "    }\n",
       "\n",
       "    .dataframe thead th {\n",
       "        text-align: right;\n",
       "    }\n",
       "</style>\n",
       "<table border=\"1\" class=\"dataframe\">\n",
       "  <thead>\n",
       "    <tr style=\"text-align: right;\">\n",
       "      <th></th>\n",
       "      <th>PA_sum</th>\n",
       "      <th>HR_sum</th>\n",
       "      <th>BB_sum</th>\n",
       "      <th>singles_sum</th>\n",
       "      <th>doubles_sum</th>\n",
       "      <th>triples_sum</th>\n",
       "      <th>AB_sum</th>\n",
       "      <th>H_sum</th>\n",
       "    </tr>\n",
       "    <tr>\n",
       "      <th>playerID</th>\n",
       "      <th></th>\n",
       "      <th></th>\n",
       "      <th></th>\n",
       "      <th></th>\n",
       "      <th></th>\n",
       "      <th></th>\n",
       "      <th></th>\n",
       "      <th></th>\n",
       "    </tr>\n",
       "  </thead>\n",
       "  <tbody>\n",
       "    <tr>\n",
       "      <th>abadan01</th>\n",
       "      <td>1</td>\n",
       "      <td>0</td>\n",
       "      <td>0</td>\n",
       "      <td>0</td>\n",
       "      <td>0</td>\n",
       "      <td>0</td>\n",
       "      <td>1</td>\n",
       "      <td>0</td>\n",
       "    </tr>\n",
       "    <tr>\n",
       "      <th>abbotje01</th>\n",
       "      <td>634</td>\n",
       "      <td>18</td>\n",
       "      <td>38</td>\n",
       "      <td>104</td>\n",
       "      <td>33</td>\n",
       "      <td>2</td>\n",
       "      <td>596</td>\n",
       "      <td>157</td>\n",
       "    </tr>\n",
       "    <tr>\n",
       "      <th>abbotji01</th>\n",
       "      <td>21</td>\n",
       "      <td>0</td>\n",
       "      <td>0</td>\n",
       "      <td>2</td>\n",
       "      <td>0</td>\n",
       "      <td>0</td>\n",
       "      <td>21</td>\n",
       "      <td>2</td>\n",
       "    </tr>\n",
       "    <tr>\n",
       "      <th>abbotku01</th>\n",
       "      <td>954</td>\n",
       "      <td>25</td>\n",
       "      <td>56</td>\n",
       "      <td>148</td>\n",
       "      <td>55</td>\n",
       "      <td>6</td>\n",
       "      <td>898</td>\n",
       "      <td>234</td>\n",
       "    </tr>\n",
       "    <tr>\n",
       "      <th>abbotpa01</th>\n",
       "      <td>9</td>\n",
       "      <td>0</td>\n",
       "      <td>0</td>\n",
       "      <td>2</td>\n",
       "      <td>1</td>\n",
       "      <td>0</td>\n",
       "      <td>9</td>\n",
       "      <td>3</td>\n",
       "    </tr>\n",
       "  </tbody>\n",
       "</table>\n",
       "</div>"
      ],
      "text/plain": [
       "           PA_sum  HR_sum  BB_sum  singles_sum  doubles_sum  triples_sum  \\\n",
       "playerID                                                                   \n",
       "abadan01        1       0       0            0            0            0   \n",
       "abbotje01     634      18      38          104           33            2   \n",
       "abbotji01      21       0       0            2            0            0   \n",
       "abbotku01     954      25      56          148           55            6   \n",
       "abbotpa01       9       0       0            2            1            0   \n",
       "\n",
       "           AB_sum  H_sum  \n",
       "playerID                  \n",
       "abadan01        1      0  \n",
       "abbotje01     596    157  \n",
       "abbotji01      21      2  \n",
       "abbotku01     898    234  \n",
       "abbotpa01       9      3  "
      ]
     },
     "execution_count": 30,
     "metadata": {},
     "output_type": "execute_result"
    }
   ],
   "source": [
    "players.head()"
   ]
  },
  {
   "cell_type": "code",
   "execution_count": 46,
   "metadata": {
    "colab": {
     "base_uri": "https://localhost:8080/",
     "height": 227
    },
    "id": "qksyiDWULLfv",
    "outputId": "67c99dc6-6959-486f-e5f5-5f821f135037"
   },
   "outputs": [],
   "source": [
    "average_pa_teamwise = players[\"PA_sum\"].mean()\n",
    "players[\"Average_PA\"] = players[\"PA_sum\"] / average_pa_teamwise\n",
    "players[\"HR\"] = players[\"HR_sum\"] / players[\"Average_PA\"]\n",
    "players[\"BB\"] = players[\"BB_sum\"] / players[\"Average_PA\"]\n",
    "# etc.\n"
   ]
  },
  {
   "cell_type": "code",
   "execution_count": 49,
   "metadata": {
    "colab": {
     "base_uri": "https://localhost:8080/",
     "height": 227
    },
    "id": "JsE7cDe9LLfw",
    "outputId": "50435f82-281c-4edf-8fe6-3fdd146d4381"
   },
   "outputs": [],
   "source": [
    "players[\"singles\"] = players[\"H_sum\"] - players[\"doubles_sum\"] - players[\"triples_sum\"] - players[\"HR_sum\"]\n",
    "players[\"doubles\"] = players[\"doubles_sum\"]\n",
    "players[\"triples\"] = players[\"triples_sum\"]\n",
    "\n"
   ]
  },
  {
   "cell_type": "code",
   "execution_count": 54,
   "metadata": {
    "colab": {
     "base_uri": "https://localhost:8080/",
     "height": 197
    },
    "id": "GJDrdUcRsp37",
    "outputId": "777ec576-b609-400c-a597-db2b6c9731cf"
   },
   "outputs": [
    {
     "data": {
      "text/html": [
       "<div>\n",
       "<style scoped>\n",
       "    .dataframe tbody tr th:only-of-type {\n",
       "        vertical-align: middle;\n",
       "    }\n",
       "\n",
       "    .dataframe tbody tr th {\n",
       "        vertical-align: top;\n",
       "    }\n",
       "\n",
       "    .dataframe thead th {\n",
       "        text-align: right;\n",
       "    }\n",
       "</style>\n",
       "<table border=\"1\" class=\"dataframe\">\n",
       "  <thead>\n",
       "    <tr style=\"text-align: right;\">\n",
       "      <th></th>\n",
       "      <th>playerID</th>\n",
       "      <th>nameFirst</th>\n",
       "      <th>nameLast</th>\n",
       "      <th>HR</th>\n",
       "      <th>BB</th>\n",
       "      <th>singles</th>\n",
       "      <th>doubles</th>\n",
       "      <th>triples</th>\n",
       "    </tr>\n",
       "  </thead>\n",
       "  <tbody>\n",
       "    <tr>\n",
       "      <th>0</th>\n",
       "      <td>abadan01</td>\n",
       "      <td>Andy</td>\n",
       "      <td>Abad</td>\n",
       "      <td>0.000000</td>\n",
       "      <td>0.000000</td>\n",
       "      <td>0.000000</td>\n",
       "      <td>0.000000</td>\n",
       "      <td>0.000000</td>\n",
       "    </tr>\n",
       "    <tr>\n",
       "      <th>1</th>\n",
       "      <td>abbotje01</td>\n",
       "      <td>Jeff</td>\n",
       "      <td>Abbott</td>\n",
       "      <td>12.571121</td>\n",
       "      <td>26.539033</td>\n",
       "      <td>72.633144</td>\n",
       "      <td>23.047055</td>\n",
       "      <td>1.396791</td>\n",
       "    </tr>\n",
       "    <tr>\n",
       "      <th>2</th>\n",
       "      <td>abbotji01</td>\n",
       "      <td>Jim</td>\n",
       "      <td>Abbott</td>\n",
       "      <td>0.000000</td>\n",
       "      <td>0.000000</td>\n",
       "      <td>42.169792</td>\n",
       "      <td>0.000000</td>\n",
       "      <td>0.000000</td>\n",
       "    </tr>\n",
       "    <tr>\n",
       "      <th>3</th>\n",
       "      <td>abbotku01</td>\n",
       "      <td>Kurt</td>\n",
       "      <td>Abbott</td>\n",
       "      <td>11.603323</td>\n",
       "      <td>25.991444</td>\n",
       "      <td>68.691675</td>\n",
       "      <td>25.527311</td>\n",
       "      <td>2.784798</td>\n",
       "    </tr>\n",
       "    <tr>\n",
       "      <th>4</th>\n",
       "      <td>abbotpa01</td>\n",
       "      <td>Paul</td>\n",
       "      <td>Abbott</td>\n",
       "      <td>0.000000</td>\n",
       "      <td>0.000000</td>\n",
       "      <td>98.396182</td>\n",
       "      <td>49.198091</td>\n",
       "      <td>0.000000</td>\n",
       "    </tr>\n",
       "  </tbody>\n",
       "</table>\n",
       "</div>"
      ],
      "text/plain": [
       "    playerID nameFirst nameLast         HR         BB    singles    doubles  \\\n",
       "0   abadan01      Andy     Abad   0.000000   0.000000   0.000000   0.000000   \n",
       "1  abbotje01      Jeff   Abbott  12.571121  26.539033  72.633144  23.047055   \n",
       "2  abbotji01       Jim   Abbott   0.000000   0.000000  42.169792   0.000000   \n",
       "3  abbotku01      Kurt   Abbott  11.603323  25.991444  68.691675  25.527311   \n",
       "4  abbotpa01      Paul   Abbott   0.000000   0.000000  98.396182  49.198091   \n",
       "\n",
       "    triples  \n",
       "0  0.000000  \n",
       "1  1.396791  \n",
       "2  0.000000  \n",
       "3  2.784798  \n",
       "4  0.000000  "
      ]
     },
     "execution_count": 54,
     "metadata": {},
     "output_type": "execute_result"
    }
   ],
   "source": [
    "master = pd.read_csv(\"../data/Master.csv\")\n",
    "players_features = pd.merge(master[[\"playerID\", \"nameFirst\", \"nameLast\"]], players_features, on=\"playerID\")\n",
    "players_features.head()\n"
   ]
  },
  {
   "cell_type": "markdown",
   "metadata": {
    "id": "LHlW3b2DLLfw"
   },
   "source": [
    "The player-specific predicted runs computed here can be interpreted as the number of runs we predict a team  will score if all batters are exactly like that player "
   ]
  },
  {
   "cell_type": "markdown",
   "metadata": {
    "id": "M1CRTNINLLfx"
   },
   "source": [
    "## Adding salary information ##"
   ]
  },
  {
   "cell_type": "markdown",
   "metadata": {
    "id": "6ehXaCn_gWPZ"
   },
   "source": [
    "To actually build the team, we will need to know their salaries as well as their defensive position."
   ]
  },
  {
   "cell_type": "code",
   "execution_count": 55,
   "metadata": {
    "id": "AneE8PixLLfx"
   },
   "outputs": [],
   "source": [
    "Salaries=pd.read_csv(\"../data/salaries.csv\")"
   ]
  },
  {
   "cell_type": "code",
   "execution_count": 56,
   "metadata": {
    "id": "VWyr8Y9rLLfx"
   },
   "outputs": [],
   "source": [
    "salaries_yr_2002 =Salaries[Salaries.yearID==2002]\n",
    "salaries_yr_2002= salaries_yr_2002[[\"playerID\",\"salary\"]]"
   ]
  },
  {
   "cell_type": "code",
   "execution_count": 57,
   "metadata": {
    "colab": {
     "base_uri": "https://localhost:8080/",
     "height": 197
    },
    "id": "b8bL3idbLLfx",
    "outputId": "51dce197-9afd-49af-f4ea-3fc56f0b818c"
   },
   "outputs": [
    {
     "data": {
      "text/html": [
       "<div>\n",
       "<style scoped>\n",
       "    .dataframe tbody tr th:only-of-type {\n",
       "        vertical-align: middle;\n",
       "    }\n",
       "\n",
       "    .dataframe tbody tr th {\n",
       "        vertical-align: top;\n",
       "    }\n",
       "\n",
       "    .dataframe thead th {\n",
       "        text-align: right;\n",
       "    }\n",
       "</style>\n",
       "<table border=\"1\" class=\"dataframe\">\n",
       "  <thead>\n",
       "    <tr style=\"text-align: right;\">\n",
       "      <th></th>\n",
       "      <th>playerID</th>\n",
       "      <th>salary</th>\n",
       "      <th>nameFirst</th>\n",
       "      <th>nameLast</th>\n",
       "      <th>HR</th>\n",
       "      <th>BB</th>\n",
       "      <th>singles</th>\n",
       "      <th>doubles</th>\n",
       "      <th>triples</th>\n",
       "    </tr>\n",
       "  </thead>\n",
       "  <tbody>\n",
       "    <tr>\n",
       "      <th>0</th>\n",
       "      <td>anderga01</td>\n",
       "      <td>5000000</td>\n",
       "      <td>Garret</td>\n",
       "      <td>Anderson</td>\n",
       "      <td>14.231830</td>\n",
       "      <td>19.153117</td>\n",
       "      <td>82.863832</td>\n",
       "      <td>25.537489</td>\n",
       "      <td>2.261132</td>\n",
       "    </tr>\n",
       "    <tr>\n",
       "      <th>1</th>\n",
       "      <td>appieke01</td>\n",
       "      <td>9500000</td>\n",
       "      <td>Kevin</td>\n",
       "      <td>Appier</td>\n",
       "      <td>0.000000</td>\n",
       "      <td>5.750426</td>\n",
       "      <td>46.003410</td>\n",
       "      <td>0.000000</td>\n",
       "      <td>0.000000</td>\n",
       "    </tr>\n",
       "    <tr>\n",
       "      <th>2</th>\n",
       "      <td>cookde01</td>\n",
       "      <td>1250000</td>\n",
       "      <td>Dennis</td>\n",
       "      <td>Cook</td>\n",
       "      <td>31.627344</td>\n",
       "      <td>0.000000</td>\n",
       "      <td>126.509377</td>\n",
       "      <td>0.000000</td>\n",
       "      <td>0.000000</td>\n",
       "    </tr>\n",
       "    <tr>\n",
       "      <th>3</th>\n",
       "      <td>davanje02</td>\n",
       "      <td>207500</td>\n",
       "      <td>Jeff</td>\n",
       "      <td>DaVanon</td>\n",
       "      <td>21.956173</td>\n",
       "      <td>47.571708</td>\n",
       "      <td>40.252984</td>\n",
       "      <td>7.318724</td>\n",
       "      <td>7.318724</td>\n",
       "    </tr>\n",
       "    <tr>\n",
       "      <th>4</th>\n",
       "      <td>eckstda01</td>\n",
       "      <td>280000</td>\n",
       "      <td>David</td>\n",
       "      <td>Eckstein</td>\n",
       "      <td>2.833810</td>\n",
       "      <td>30.463458</td>\n",
       "      <td>94.932637</td>\n",
       "      <td>18.419765</td>\n",
       "      <td>1.416905</td>\n",
       "    </tr>\n",
       "  </tbody>\n",
       "</table>\n",
       "</div>"
      ],
      "text/plain": [
       "    playerID   salary nameFirst  nameLast         HR         BB     singles  \\\n",
       "0  anderga01  5000000    Garret  Anderson  14.231830  19.153117   82.863832   \n",
       "1  appieke01  9500000     Kevin    Appier   0.000000   5.750426   46.003410   \n",
       "2   cookde01  1250000    Dennis      Cook  31.627344   0.000000  126.509377   \n",
       "3  davanje02   207500      Jeff   DaVanon  21.956173  47.571708   40.252984   \n",
       "4  eckstda01   280000     David  Eckstein   2.833810  30.463458   94.932637   \n",
       "\n",
       "     doubles   triples  \n",
       "0  25.537489  2.261132  \n",
       "1   0.000000  0.000000  \n",
       "2   0.000000  0.000000  \n",
       "3   7.318724  7.318724  \n",
       "4  18.419765  1.416905  "
      ]
     },
     "execution_count": 57,
     "metadata": {},
     "output_type": "execute_result"
    }
   ],
   "source": [
    "player_insights = pd.merge(salaries_yr_2002, players_features, on='playerID')\n",
    "player_insights.head()"
   ]
  },
  {
   "cell_type": "markdown",
   "metadata": {
    "id": "zETj1i3FLLfy"
   },
   "source": [
    "## Adding position information ##"
   ]
  },
  {
   "cell_type": "markdown",
   "metadata": {
    "id": "aYZEDKEKftpF"
   },
   "source": [
    "Next, we add their defensive position. This is a somewhat complicated task because players play more than one position each year. Appearances data tells how many games each player played in each position, so we can pick the position that was most played for each player. However, because some players are traded, they appear more than once on the table, so we first sum their appearances across teams. We remove pitchers since they don’t bat in the league in which the A’s play."
   ]
  },
  {
   "cell_type": "code",
   "execution_count": 58,
   "metadata": {
    "id": "2bTeCCwSLLfz"
   },
   "outputs": [],
   "source": [
    "appearances = pd.read_csv(\"../data/appearances.csv\")\n",
    "            "
   ]
  },
  {
   "cell_type": "code",
   "execution_count": 59,
   "metadata": {
    "colab": {
     "base_uri": "https://localhost:8080/",
     "height": 197
    },
    "id": "-3BSj1i-LLfz",
    "outputId": "03d1b04b-3e6a-4713-f27f-a6354ad0d7eb"
   },
   "outputs": [
    {
     "data": {
      "text/html": [
       "<div>\n",
       "<style scoped>\n",
       "    .dataframe tbody tr th:only-of-type {\n",
       "        vertical-align: middle;\n",
       "    }\n",
       "\n",
       "    .dataframe tbody tr th {\n",
       "        vertical-align: top;\n",
       "    }\n",
       "\n",
       "    .dataframe thead th {\n",
       "        text-align: right;\n",
       "    }\n",
       "</style>\n",
       "<table border=\"1\" class=\"dataframe\">\n",
       "  <thead>\n",
       "    <tr style=\"text-align: right;\">\n",
       "      <th></th>\n",
       "      <th>yearID</th>\n",
       "      <th>teamID</th>\n",
       "      <th>lgID</th>\n",
       "      <th>playerID</th>\n",
       "      <th>G_all</th>\n",
       "      <th>GS</th>\n",
       "      <th>G_batting</th>\n",
       "      <th>G_defense</th>\n",
       "      <th>G_p</th>\n",
       "      <th>G_c</th>\n",
       "      <th>...</th>\n",
       "      <th>G_2b</th>\n",
       "      <th>G_3b</th>\n",
       "      <th>G_ss</th>\n",
       "      <th>G_lf</th>\n",
       "      <th>G_cf</th>\n",
       "      <th>G_rf</th>\n",
       "      <th>G_of</th>\n",
       "      <th>G_dh</th>\n",
       "      <th>G_ph</th>\n",
       "      <th>G_pr</th>\n",
       "    </tr>\n",
       "  </thead>\n",
       "  <tbody>\n",
       "    <tr>\n",
       "      <th>0</th>\n",
       "      <td>1871</td>\n",
       "      <td>TRO</td>\n",
       "      <td>NaN</td>\n",
       "      <td>abercda01</td>\n",
       "      <td>1</td>\n",
       "      <td>NaN</td>\n",
       "      <td>1</td>\n",
       "      <td>1</td>\n",
       "      <td>0</td>\n",
       "      <td>0</td>\n",
       "      <td>...</td>\n",
       "      <td>0</td>\n",
       "      <td>0</td>\n",
       "      <td>1</td>\n",
       "      <td>0</td>\n",
       "      <td>0</td>\n",
       "      <td>0</td>\n",
       "      <td>0</td>\n",
       "      <td>NaN</td>\n",
       "      <td>NaN</td>\n",
       "      <td>NaN</td>\n",
       "    </tr>\n",
       "    <tr>\n",
       "      <th>1</th>\n",
       "      <td>1871</td>\n",
       "      <td>RC1</td>\n",
       "      <td>NaN</td>\n",
       "      <td>addybo01</td>\n",
       "      <td>25</td>\n",
       "      <td>NaN</td>\n",
       "      <td>25</td>\n",
       "      <td>25</td>\n",
       "      <td>0</td>\n",
       "      <td>0</td>\n",
       "      <td>...</td>\n",
       "      <td>22</td>\n",
       "      <td>0</td>\n",
       "      <td>3</td>\n",
       "      <td>0</td>\n",
       "      <td>0</td>\n",
       "      <td>0</td>\n",
       "      <td>0</td>\n",
       "      <td>NaN</td>\n",
       "      <td>NaN</td>\n",
       "      <td>NaN</td>\n",
       "    </tr>\n",
       "    <tr>\n",
       "      <th>2</th>\n",
       "      <td>1871</td>\n",
       "      <td>CL1</td>\n",
       "      <td>NaN</td>\n",
       "      <td>allisar01</td>\n",
       "      <td>29</td>\n",
       "      <td>NaN</td>\n",
       "      <td>29</td>\n",
       "      <td>29</td>\n",
       "      <td>0</td>\n",
       "      <td>0</td>\n",
       "      <td>...</td>\n",
       "      <td>2</td>\n",
       "      <td>0</td>\n",
       "      <td>0</td>\n",
       "      <td>0</td>\n",
       "      <td>29</td>\n",
       "      <td>0</td>\n",
       "      <td>29</td>\n",
       "      <td>NaN</td>\n",
       "      <td>NaN</td>\n",
       "      <td>NaN</td>\n",
       "    </tr>\n",
       "    <tr>\n",
       "      <th>3</th>\n",
       "      <td>1871</td>\n",
       "      <td>WS3</td>\n",
       "      <td>NaN</td>\n",
       "      <td>allisdo01</td>\n",
       "      <td>27</td>\n",
       "      <td>NaN</td>\n",
       "      <td>27</td>\n",
       "      <td>27</td>\n",
       "      <td>0</td>\n",
       "      <td>27</td>\n",
       "      <td>...</td>\n",
       "      <td>0</td>\n",
       "      <td>0</td>\n",
       "      <td>0</td>\n",
       "      <td>0</td>\n",
       "      <td>0</td>\n",
       "      <td>0</td>\n",
       "      <td>0</td>\n",
       "      <td>NaN</td>\n",
       "      <td>NaN</td>\n",
       "      <td>NaN</td>\n",
       "    </tr>\n",
       "    <tr>\n",
       "      <th>4</th>\n",
       "      <td>1871</td>\n",
       "      <td>RC1</td>\n",
       "      <td>NaN</td>\n",
       "      <td>ansonca01</td>\n",
       "      <td>25</td>\n",
       "      <td>NaN</td>\n",
       "      <td>25</td>\n",
       "      <td>25</td>\n",
       "      <td>0</td>\n",
       "      <td>5</td>\n",
       "      <td>...</td>\n",
       "      <td>2</td>\n",
       "      <td>20</td>\n",
       "      <td>0</td>\n",
       "      <td>1</td>\n",
       "      <td>0</td>\n",
       "      <td>0</td>\n",
       "      <td>1</td>\n",
       "      <td>NaN</td>\n",
       "      <td>NaN</td>\n",
       "      <td>NaN</td>\n",
       "    </tr>\n",
       "  </tbody>\n",
       "</table>\n",
       "<p>5 rows × 21 columns</p>\n",
       "</div>"
      ],
      "text/plain": [
       "   yearID teamID lgID   playerID  G_all  GS  G_batting  G_defense  G_p  G_c  \\\n",
       "0    1871    TRO  NaN  abercda01      1 NaN          1          1    0    0   \n",
       "1    1871    RC1  NaN   addybo01     25 NaN         25         25    0    0   \n",
       "2    1871    CL1  NaN  allisar01     29 NaN         29         29    0    0   \n",
       "3    1871    WS3  NaN  allisdo01     27 NaN         27         27    0   27   \n",
       "4    1871    RC1  NaN  ansonca01     25 NaN         25         25    0    5   \n",
       "\n",
       "   ...  G_2b  G_3b  G_ss  G_lf  G_cf  G_rf  G_of  G_dh  G_ph  G_pr  \n",
       "0  ...     0     0     1     0     0     0     0   NaN   NaN   NaN  \n",
       "1  ...    22     0     3     0     0     0     0   NaN   NaN   NaN  \n",
       "2  ...     2     0     0     0    29     0    29   NaN   NaN   NaN  \n",
       "3  ...     0     0     0     0     0     0     0   NaN   NaN   NaN  \n",
       "4  ...     2    20     0     1     0     0     1   NaN   NaN   NaN  \n",
       "\n",
       "[5 rows x 21 columns]"
      ]
     },
     "execution_count": 59,
     "metadata": {},
     "output_type": "execute_result"
    }
   ],
   "source": [
    "appearances.head()"
   ]
  },
  {
   "cell_type": "code",
   "execution_count": 60,
   "metadata": {
    "id": "uEY_YB-0LLfz"
   },
   "outputs": [],
   "source": [
    "append_str = 'G_'\n",
    "position_names = [\"p\",\"c\",\"1b\",\"2b\",\"3b\",\"ss\",\"lf\",\"cf\",\"rf\", \"dh\"]\n",
    "position_names = [append_str + sub for sub in position_names]"
   ]
  },
  {
   "cell_type": "code",
   "execution_count": 61,
   "metadata": {
    "id": "b_HO59-DLLfz"
   },
   "outputs": [],
   "source": [
    "operations_dict = {}\n",
    "for term in position_names:\n",
    "    operations_dict[term] = \"sum\""
   ]
  },
  {
   "cell_type": "code",
   "execution_count": 62,
   "metadata": {
    "id": "tVBsTjvPLLf0"
   },
   "outputs": [],
   "source": [
    "result = appearances[appearances.yearID == 2002].groupby(\"playerID\").agg(operations_dict)"
   ]
  },
  {
   "cell_type": "code",
   "execution_count": 63,
   "metadata": {
    "colab": {
     "base_uri": "https://localhost:8080/",
     "height": 227
    },
    "id": "D6LG11FeLLf0",
    "outputId": "116cc74d-c262-49fe-b9f9-8a10e8fc1b57"
   },
   "outputs": [
    {
     "data": {
      "text/html": [
       "<div>\n",
       "<style scoped>\n",
       "    .dataframe tbody tr th:only-of-type {\n",
       "        vertical-align: middle;\n",
       "    }\n",
       "\n",
       "    .dataframe tbody tr th {\n",
       "        vertical-align: top;\n",
       "    }\n",
       "\n",
       "    .dataframe thead th {\n",
       "        text-align: right;\n",
       "    }\n",
       "</style>\n",
       "<table border=\"1\" class=\"dataframe\">\n",
       "  <thead>\n",
       "    <tr style=\"text-align: right;\">\n",
       "      <th></th>\n",
       "      <th>G_p</th>\n",
       "      <th>G_c</th>\n",
       "      <th>G_1b</th>\n",
       "      <th>G_2b</th>\n",
       "      <th>G_3b</th>\n",
       "      <th>G_ss</th>\n",
       "      <th>G_lf</th>\n",
       "      <th>G_cf</th>\n",
       "      <th>G_rf</th>\n",
       "      <th>G_dh</th>\n",
       "    </tr>\n",
       "    <tr>\n",
       "      <th>playerID</th>\n",
       "      <th></th>\n",
       "      <th></th>\n",
       "      <th></th>\n",
       "      <th></th>\n",
       "      <th></th>\n",
       "      <th></th>\n",
       "      <th></th>\n",
       "      <th></th>\n",
       "      <th></th>\n",
       "      <th></th>\n",
       "    </tr>\n",
       "  </thead>\n",
       "  <tbody>\n",
       "    <tr>\n",
       "      <th>abbotpa01</th>\n",
       "      <td>7</td>\n",
       "      <td>0</td>\n",
       "      <td>0</td>\n",
       "      <td>0</td>\n",
       "      <td>0</td>\n",
       "      <td>0</td>\n",
       "      <td>0</td>\n",
       "      <td>0</td>\n",
       "      <td>0</td>\n",
       "      <td>0.0</td>\n",
       "    </tr>\n",
       "    <tr>\n",
       "      <th>abernbr01</th>\n",
       "      <td>0</td>\n",
       "      <td>0</td>\n",
       "      <td>0</td>\n",
       "      <td>116</td>\n",
       "      <td>0</td>\n",
       "      <td>0</td>\n",
       "      <td>0</td>\n",
       "      <td>0</td>\n",
       "      <td>0</td>\n",
       "      <td>1.0</td>\n",
       "    </tr>\n",
       "    <tr>\n",
       "      <th>abreubo01</th>\n",
       "      <td>0</td>\n",
       "      <td>0</td>\n",
       "      <td>0</td>\n",
       "      <td>0</td>\n",
       "      <td>0</td>\n",
       "      <td>0</td>\n",
       "      <td>0</td>\n",
       "      <td>18</td>\n",
       "      <td>148</td>\n",
       "      <td>0.0</td>\n",
       "    </tr>\n",
       "    <tr>\n",
       "      <th>acevejo01</th>\n",
       "      <td>6</td>\n",
       "      <td>0</td>\n",
       "      <td>0</td>\n",
       "      <td>0</td>\n",
       "      <td>0</td>\n",
       "      <td>0</td>\n",
       "      <td>0</td>\n",
       "      <td>0</td>\n",
       "      <td>0</td>\n",
       "      <td>0.0</td>\n",
       "    </tr>\n",
       "    <tr>\n",
       "      <th>aceveju01</th>\n",
       "      <td>65</td>\n",
       "      <td>0</td>\n",
       "      <td>0</td>\n",
       "      <td>0</td>\n",
       "      <td>0</td>\n",
       "      <td>0</td>\n",
       "      <td>0</td>\n",
       "      <td>0</td>\n",
       "      <td>0</td>\n",
       "      <td>0.0</td>\n",
       "    </tr>\n",
       "  </tbody>\n",
       "</table>\n",
       "</div>"
      ],
      "text/plain": [
       "           G_p  G_c  G_1b  G_2b  G_3b  G_ss  G_lf  G_cf  G_rf  G_dh\n",
       "playerID                                                           \n",
       "abbotpa01    7    0     0     0     0     0     0     0     0   0.0\n",
       "abernbr01    0    0     0   116     0     0     0     0     0   1.0\n",
       "abreubo01    0    0     0     0     0     0     0    18   148   0.0\n",
       "acevejo01    6    0     0     0     0     0     0     0     0   0.0\n",
       "aceveju01   65    0     0     0     0     0     0     0     0   0.0"
      ]
     },
     "execution_count": 63,
     "metadata": {},
     "output_type": "execute_result"
    }
   ],
   "source": [
    "result.head()"
   ]
  },
  {
   "cell_type": "code",
   "execution_count": 64,
   "metadata": {
    "id": "uXbzRjbVLLf0"
   },
   "outputs": [],
   "source": [
    "def max_position(x):\n",
    "    \n",
    "    position_counts = [x[term] for term in position_names]\n",
    "    return position_counts.index(max(position_counts))"
   ]
  },
  {
   "cell_type": "code",
   "execution_count": 65,
   "metadata": {
    "id": "lF9YDxL1LLf1"
   },
   "outputs": [],
   "source": [
    "result[\"most_played_position\"] = result.apply(lambda x : position_names[max_position(x)][2:],axis=1)"
   ]
  },
  {
   "cell_type": "code",
   "execution_count": 66,
   "metadata": {
    "colab": {
     "base_uri": "https://localhost:8080/",
     "height": 227
    },
    "id": "UKe9gB3vLLf1",
    "outputId": "bec783d7-02a0-4b77-dedf-54783aa453d0"
   },
   "outputs": [
    {
     "data": {
      "text/html": [
       "<div>\n",
       "<style scoped>\n",
       "    .dataframe tbody tr th:only-of-type {\n",
       "        vertical-align: middle;\n",
       "    }\n",
       "\n",
       "    .dataframe tbody tr th {\n",
       "        vertical-align: top;\n",
       "    }\n",
       "\n",
       "    .dataframe thead th {\n",
       "        text-align: right;\n",
       "    }\n",
       "</style>\n",
       "<table border=\"1\" class=\"dataframe\">\n",
       "  <thead>\n",
       "    <tr style=\"text-align: right;\">\n",
       "      <th></th>\n",
       "      <th>G_p</th>\n",
       "      <th>G_c</th>\n",
       "      <th>G_1b</th>\n",
       "      <th>G_2b</th>\n",
       "      <th>G_3b</th>\n",
       "      <th>G_ss</th>\n",
       "      <th>G_lf</th>\n",
       "      <th>G_cf</th>\n",
       "      <th>G_rf</th>\n",
       "      <th>G_dh</th>\n",
       "      <th>most_played_position</th>\n",
       "    </tr>\n",
       "    <tr>\n",
       "      <th>playerID</th>\n",
       "      <th></th>\n",
       "      <th></th>\n",
       "      <th></th>\n",
       "      <th></th>\n",
       "      <th></th>\n",
       "      <th></th>\n",
       "      <th></th>\n",
       "      <th></th>\n",
       "      <th></th>\n",
       "      <th></th>\n",
       "      <th></th>\n",
       "    </tr>\n",
       "  </thead>\n",
       "  <tbody>\n",
       "    <tr>\n",
       "      <th>abbotpa01</th>\n",
       "      <td>7</td>\n",
       "      <td>0</td>\n",
       "      <td>0</td>\n",
       "      <td>0</td>\n",
       "      <td>0</td>\n",
       "      <td>0</td>\n",
       "      <td>0</td>\n",
       "      <td>0</td>\n",
       "      <td>0</td>\n",
       "      <td>0.0</td>\n",
       "      <td>p</td>\n",
       "    </tr>\n",
       "    <tr>\n",
       "      <th>abernbr01</th>\n",
       "      <td>0</td>\n",
       "      <td>0</td>\n",
       "      <td>0</td>\n",
       "      <td>116</td>\n",
       "      <td>0</td>\n",
       "      <td>0</td>\n",
       "      <td>0</td>\n",
       "      <td>0</td>\n",
       "      <td>0</td>\n",
       "      <td>1.0</td>\n",
       "      <td>2b</td>\n",
       "    </tr>\n",
       "    <tr>\n",
       "      <th>abreubo01</th>\n",
       "      <td>0</td>\n",
       "      <td>0</td>\n",
       "      <td>0</td>\n",
       "      <td>0</td>\n",
       "      <td>0</td>\n",
       "      <td>0</td>\n",
       "      <td>0</td>\n",
       "      <td>18</td>\n",
       "      <td>148</td>\n",
       "      <td>0.0</td>\n",
       "      <td>rf</td>\n",
       "    </tr>\n",
       "    <tr>\n",
       "      <th>acevejo01</th>\n",
       "      <td>6</td>\n",
       "      <td>0</td>\n",
       "      <td>0</td>\n",
       "      <td>0</td>\n",
       "      <td>0</td>\n",
       "      <td>0</td>\n",
       "      <td>0</td>\n",
       "      <td>0</td>\n",
       "      <td>0</td>\n",
       "      <td>0.0</td>\n",
       "      <td>p</td>\n",
       "    </tr>\n",
       "    <tr>\n",
       "      <th>aceveju01</th>\n",
       "      <td>65</td>\n",
       "      <td>0</td>\n",
       "      <td>0</td>\n",
       "      <td>0</td>\n",
       "      <td>0</td>\n",
       "      <td>0</td>\n",
       "      <td>0</td>\n",
       "      <td>0</td>\n",
       "      <td>0</td>\n",
       "      <td>0.0</td>\n",
       "      <td>p</td>\n",
       "    </tr>\n",
       "  </tbody>\n",
       "</table>\n",
       "</div>"
      ],
      "text/plain": [
       "           G_p  G_c  G_1b  G_2b  G_3b  G_ss  G_lf  G_cf  G_rf  G_dh  \\\n",
       "playerID                                                              \n",
       "abbotpa01    7    0     0     0     0     0     0     0     0   0.0   \n",
       "abernbr01    0    0     0   116     0     0     0     0     0   1.0   \n",
       "abreubo01    0    0     0     0     0     0     0    18   148   0.0   \n",
       "acevejo01    6    0     0     0     0     0     0     0     0   0.0   \n",
       "aceveju01   65    0     0     0     0     0     0     0     0   0.0   \n",
       "\n",
       "          most_played_position  \n",
       "playerID                        \n",
       "abbotpa01                    p  \n",
       "abernbr01                   2b  \n",
       "abreubo01                   rf  \n",
       "acevejo01                    p  \n",
       "aceveju01                    p  "
      ]
     },
     "execution_count": 66,
     "metadata": {},
     "output_type": "execute_result"
    }
   ],
   "source": [
    "result.head()\n"
   ]
  },
  {
   "cell_type": "code",
   "execution_count": 67,
   "metadata": {
    "id": "c6D3GT7gLLf1"
   },
   "outputs": [],
   "source": [
    "player_salary_position = pd.merge(player_insights, result, on='playerID')\n",
    "player_salary_position.drop(position_names,axis=1,inplace=True)\n",
    "player_salary_position = player_salary_position[player_salary_position[\"most_played_position\"]!=\"p\"]"
   ]
  },
  {
   "cell_type": "code",
   "execution_count": 68,
   "metadata": {
    "id": "sHhhEh3mLLf2"
   },
   "outputs": [],
   "source": [
    "position_names = [\"p\",\"c\",\"1b\",\"2b\",\"3b\",\"ss\",\"lf\",\"cf\",\"rf\", \"dh\"]\n",
    "for position in position_names:\n",
    "    player_salary_position[\"chronicle_delta_\" + str(position)] = player_salary_position.apply(lambda x : 1 if x.most_played_position == position else 0,axis=1)"
   ]
  },
  {
   "cell_type": "markdown",
   "metadata": {
    "id": "5M9nx5sCLLf2"
   },
   "source": [
    "## Select the players given the maximum budget as 40 million dollars ##\n"
   ]
  },
  {
   "cell_type": "markdown",
   "metadata": {
    "id": "LDCSZIsULLf3"
   },
   "source": [
    "Please see reference link before proceeding the code : \n",
    "https://docs.python-mip.com/en/latest/examples.html"
   ]
  },
  {
   "cell_type": "markdown",
   "metadata": {
    "id": "0j0fxFIHiz9n"
   },
   "source": [
    "We can search for good deals by looking at players who produce many more runs than others with similar salaries. We can use this table to decide what players to pick and keep our total salary below the 40 million dollars Billy Beane had to work with. Another constraint is to have a player for every position."
   ]
  },
  {
   "cell_type": "markdown",
   "metadata": {
    "id": "ufjf4RNojGo6"
   },
   "source": []
  },
  {
   "cell_type": "code",
   "execution_count": 69,
   "metadata": {
    "id": "m2CMbcGBLLf4"
   },
   "outputs": [],
   "source": [
    "from mip import Model, xsum, maximize, BINARY"
   ]
  },
  {
   "cell_type": "code",
   "execution_count": null,
   "metadata": {
    "id": "9CVd5JIcLLf4"
   },
   "outputs": [],
   "source": [
    "## Here p denotes predicted runs. p[i] denote the runs for the ith player.\n",
    "## Here w denotes the salary. w[i] denotes the salary for the ith player.\n",
    "## chronicle_delta_position column of the dataframe denotes whether the player plays on that corresponding position or not.\n",
    "# Merge predictions into player_salary_position\n",
    "# Assuming 'players_features' contains 'playerID', 'R_hat', 'R_hat_linear'\n",
    "X_filled = X.fillna(0)  # or X.fillna(X.mean())\n",
    "players_features['R_hat'] = model.predict(X_filled)\n",
    "players_features['R_hat_linear'] = linear_model.predict(X_filled)\n",
    "\n"
   ]
  },
  {
   "cell_type": "code",
   "execution_count": 107,
   "metadata": {
    "colab": {
     "base_uri": "https://localhost:8080/"
    },
    "id": "nycRzNGLLLf5",
    "outputId": "322252c3-01f8-45e6-c208-e5db37d77599"
   },
   "outputs": [
    {
     "name": "stdout",
     "output_type": "stream",
     "text": [
      "True\n"
     ]
    }
   ],
   "source": [
    "if 'playerID' in players_features.index.names:\n",
    "    players_features = players_features.reset_index(drop=True)\n",
    "\n",
    "if 'playerID' in player_salary_position.index.names:\n",
    "    player_salary_position = player_salary_position.reset_index(drop=True)\n",
    "player_salary_position = player_salary_position.merge(\n",
    "    players_features[['playerID', 'R_hat', 'R_hat_linear']],\n",
    "    on='playerID',\n",
    "    how='left'\n",
    ")\n",
    "\n",
    "print(\"R_hat\" in player_salary_position.columns)  # Should be True\n"
   ]
  },
  {
   "cell_type": "markdown",
   "metadata": {
    "id": "omRkiSXaLLf6"
   },
   "source": [
    "## Selected team ##"
   ]
  },
  {
   "cell_type": "code",
   "execution_count": 124,
   "metadata": {
    "colab": {
     "base_uri": "https://localhost:8080/",
     "height": 317
    },
    "id": "aM2GYVGJLLf7",
    "outputId": "0ae52a19-da84-41fe-eecd-a7b136ac45b4"
   },
   "outputs": [],
   "source": [
    "# total_salary = selected_team['salary'].sum()\n",
    "# total_runs = selected_team['R_hat'].sum()\n",
    "\n",
    "# print(f\"\\nTotal Salary: ${total_salary:,.0f}\")\n",
    "# print(f\"Total Predicted Runs: {total_runs:.2f}\")\n",
    "# Just budget and maximize predicted runs\n",
    "for pos in position_names:\n",
    "    col = f\"chronicle_delta_{pos.lower()}\"\n",
    "    player_salary_position[col] = (player_salary_position['most_played_position'].str.upper() == pos).astype(int)\n",
    "\n"
   ]
  },
  {
   "cell_type": "markdown",
   "metadata": {
    "id": "-gXXcuP6LLf7"
   },
   "source": [
    "## Subjective part: Did the resulting team changed?\n",
    "\n",
    "Yes the resulting team changed when I switched from the linear model to the Randomforest Regression model. And this change is mostly due to the variation in $\\hat{R}$ predictions.\n",
    "\n",
    "In the code above, I modified the fitting and prediction procedure to apply both models, the linear regression and the random forest regression. And in the final team selection, both predictions are shown. We can see that for each player, the randomforest regression generated predictions that are more \"stable\" than that of the linear regression. The variance was significantly less as well. So it's reasonable that the final selection would change. Below is a graph comparing the two predictions:\n"
   ]
  },
  {
   "cell_type": "code",
   "execution_count": 126,
   "metadata": {},
   "outputs": [
    {
     "name": "stderr",
     "output_type": "stream",
     "text": [
      "Matplotlib is building the font cache; this may take a moment.\n"
     ]
    },
    {
     "data": {
      "text/plain": [
       "<Axes: >"
      ]
     },
     "execution_count": 126,
     "metadata": {},
     "output_type": "execute_result"
    },
    {
     "data": {
      "image/png": "[encoded data removed]",
      "text/plain": [
       "<Figure size 1200x600 with 1 Axes>"
      ]
     },
     "metadata": {},
     "output_type": "display_data"
    }
   ],
   "source": [
    "%matplotlib inline\n",
    "import matplotlib.pyplot as plt\n",
    "\n",
    "players_features[[\"R_hat\", \"R_hat_linear\"]].plot(figsize=(12,6))"
   ]
  },
  {
   "cell_type": "markdown",
   "metadata": {},
   "source": [
    "That leaves us with another question, that is which model should we trust? To answer it, we can calculate their performance measures on the training dataset."
   ]
  },
  {
   "cell_type": "code",
   "execution_count": 127,
   "metadata": {},
   "outputs": [
    {
     "name": "stdout",
     "output_type": "stream",
     "text": [
      "Randomforest Regression scored: -0.003\n",
      "Linear Regression scored: 0.981\n"
     ]
    }
   ],
   "source": [
    "from sklearn.model_selection import train_test_split\n",
    "\n",
    "# split the team runs and features dataset \n",
    "X_train, X_test, y_train, y_test = train_test_split(team_features, team_runs, test_size=0.33, random_state=1)\n",
    "\n",
    "# calculate the accuracy score for Randomforest regression\n",
    "model.fit(X_train, y_train)\n",
    "print(f\"Randomforest Regression scored: {model.score(X_test,  y_test):.3f}\")\n",
    "\n",
    "# calculate the accuracy score for linear regression\n",
    "linear_model.fit(X_train, y_train)\n",
    "print(f\"Linear Regression scored: {linear_model.score(X_test,  y_test):.3f}\")"
   ]
  },
  {
   "cell_type": "markdown",
   "id": "252bfe0b",
   "metadata": {},
   "source": [
    "We can see that the linear regression actually performed better. So we should trust the draft with the linear model rather than the new Random Forest Regression."
   ]
  }
 ],
 "metadata": {
  "colab": {
   "include_colab_link": true,
   "name": "assignment_1_exercise.ipynb",
   "provenance": []
  },
  "kernelspec": {
   "display_name": "Python 3",
   "language": "python",
   "name": "python3"
  },
  "language_info": {
   "codemirror_mode": {
    "name": "ipython",
    "version": 3
   },
   "file_extension": ".py",
   "mimetype": "text/x-python",
   "name": "python",
   "nbconvert_exporter": "python",
   "pygments_lexer": "ipython3",
   "version": "3.11.9"
  }
 },
 "nbformat": 4,
 "nbformat_minor": 5
}
