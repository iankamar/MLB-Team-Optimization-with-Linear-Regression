{
 "cells": [
  {
   "cell_type": "markdown",
   "metadata": {
    "id": "SCsg_PHYLLfl"
   },
   "source": [
    "## Build a model to create a metric for judging team based on team level information ##"
   ]
  },
  {
   "cell_type": "code",
   "execution_count": 69,
   "metadata": {
    "colab": {
     "base_uri": "https://localhost:8080/"
    },
    "id": "k06xxSRiMFEx",
    "outputId": "1f5a34fe-4b95-4bd1-a243-fd781c3532a3"
   },
   "outputs": [],
   "source": [
    "import pandas as pd\n",
    "pd.options.mode.chained_assignment = None  # default='warn'\n",
    "from mip import Model, xsum, maximize, BINARY"
   ]
  },
  {
   "cell_type": "code",
   "execution_count": 70,
   "metadata": {
    "id": "4jkAA9rxLLfm"
   },
   "outputs": [],
   "source": [
    "teams = pd.read_csv(\"https://raw.githubusercontent.com/tleitch/BDML/main/data/teams.csv\")\n",
    "teams = teams[(teams.yearID >=1961) & (teams.yearID <= 2001)]"
   ]
  },
  {
   "cell_type": "markdown",
   "metadata": {
    "id": "IlLUUVtPLLfn"
   },
   "source": [
    "## Extracting features for teams ##"
   ]
  },
  {
   "cell_type": "code",
   "execution_count": 71,
   "metadata": {
    "id": "uklUnuSSLLfo"
   },
   "outputs": [],
   "source": [
    "teams[\"BB\"] = teams[\"BB\"]/teams[\"G\"]\n",
    "teams[\"singles\"] = (teams[\"H\"] - teams[\"X2B\"] - teams[\"X3B\"] - teams[\"HR\"])/teams[\"G\"]\n",
    "teams[\"doubles\"] =  teams[\"X2B\"]/teams[\"G\"]\n",
    "teams[\"triples\"] = teams[\"X3B\"]/teams[\"G\"]\n",
    "teams[\"HR\"] = teams[\"HR\"]/teams[\"G\"]\n",
    "teams[\"R\"] = teams[\"R\"]/teams[\"G\"]"
   ]
  },
  {
   "cell_type": "code",
   "execution_count": 72,
   "metadata": {
    "colab": {
     "base_uri": "https://localhost:8080/"
    },
    "id": "7wY_igBwLLfp",
    "outputId": "5528c76b-e09a-4586-a5f1-db70c03cc2e9"
   },
   "outputs": [
    {
     "data": {
      "text/plain": [
       "(1026, 52)"
      ]
     },
     "execution_count": 72,
     "metadata": {},
     "output_type": "execute_result"
    }
   ],
   "source": [
    "teams.shape"
   ]
  },
  {
   "cell_type": "markdown",
   "metadata": {
    "id": "GoPubepeLLfq"
   },
   "source": [
    "## Model building ##"
   ]
  },
  {
   "cell_type": "code",
   "execution_count": 132,
   "metadata": {
    "id": "C23e53W2LLfr"
   },
   "outputs": [],
   "source": [
    "team_features = teams[[\"BB\",\"singles\",\"doubles\",\"triples\",\"HR\"]]\n",
    "team_runs = teams[\"R\"]"
   ]
  },
  {
   "cell_type": "markdown",
   "metadata": {
    "id": "5S2y79NCPAOd"
   },
   "source": [
    "# **## Your code here ##**\n",
    "Change the LinearRegression() to use a different model from scikit-learn. Remember you need to load the model. Links to other model's documentation is provided below. "
   ]
  },
  {
   "cell_type": "code",
   "execution_count": 74,
   "metadata": {
    "colab": {
     "base_uri": "https://localhost:8080/"
    },
    "id": "3RjG7kcmOubw",
    "outputId": "044ec73f-8bdc-467c-a3f8-2294942c16da"
   },
   "outputs": [
    {
     "data": {
      "text/plain": [
       "LinearRegression()"
      ]
     },
     "execution_count": 74,
     "metadata": {},
     "output_type": "execute_result"
    }
   ],
   "source": [
    "# Change code here \n",
    "from sklearn.linear_model import LinearRegression\n",
    "from sklearn.ensemble import RandomForestRegressor\n",
    "model = RandomForestRegressor()\n",
    "linear_model = LinearRegression()\n",
    "\n",
    "model.fit(team_features, team_runs)\n",
    "linear_model.fit(team_features, team_runs)\n",
    "#^^^^^^^^^^^^^^^^^"
   ]
  },
  {
   "cell_type": "markdown",
   "metadata": {
    "id": "zHqKYxsILwgR"
   },
   "source": [
    "Other possible models which can be built :\n",
    "\n",
    "randomforest : https://scikit-learn.org/stable/modules/generated/sklearn.ensemble.RandomForestRegressor.html \n",
    "\n",
    "Gradient boosting : https://scikit-learn.org/stable/modules/generated/sklearn.ensemble.GradientBoostingRegressor.html \n",
    "\n",
    "support vector machine : https://scikit-learn.org/stable/auto_examples/svm/plot_svm_regression.html \n",
    "\n",
    "kNN fit : https://scikit-learn.org/stable/modules/generated/sklearn.neighbors.KNeighborsRegressor.html"
   ]
  },
  {
   "cell_type": "markdown",
   "metadata": {
    "id": "pUyXiw5rLLfs"
   },
   "source": [
    "Instead of using batting average, or just number of HR,as a measure of picking players, we can use our fitted model to form a metric that relates more directly to run production.\n",
    "\n",
    "Specifically, to define a metric for player A, we imagine a team made up of players just like player A and use our fitted regression model to predict how many runs this team would produce "
   ]
  },
  {
   "cell_type": "markdown",
   "metadata": {
    "id": "1_UY0TEQLLfs"
   },
   "source": [
    "To define a player-specific metric, we have a bit more work to do. A challenge here is that we derived the metric for teams, based on team-level summary statistics. \n",
    "\n",
    "For example, the HR value that is entered into the equation is HR per game for the entire team "
   ]
  },
  {
   "cell_type": "markdown",
   "metadata": {
    "id": "Qv8-kxTOLLft"
   },
   "source": [
    "We compute the per-plate-appearance rates for players available in 2002 on data from 1997-2001. \n",
    "To avoid small sample artifacts, we filter players with less than 1000 plate appearances per year.\n",
    "\n",
    "\n",
    "Reference : https://rafalab.github.io/dsbook/linear-models.html#linear-regression-in-the-tidyverse"
   ]
  },
  {
   "cell_type": "code",
   "execution_count": 75,
   "metadata": {
    "id": "bs92ayvZLLft"
   },
   "outputs": [],
   "source": [
    "batting=pd.read_csv(\"https://raw.githubusercontent.com/tleitch/BDML/main/data/Batting.csv\")"
   ]
  },
  {
   "cell_type": "code",
   "execution_count": 76,
   "metadata": {
    "id": "ktNJIjZaLLft"
   },
   "outputs": [],
   "source": [
    "def extract_pa_per_game(df):\n",
    "    \n",
    "    pa_per_game = (df['AB'].sum() + df[\"BB\"].sum())/df[\"G\"].max()\n",
    "    \n",
    "    return pa_per_game\n"
   ]
  },
  {
   "cell_type": "code",
   "execution_count": 77,
   "metadata": {
    "id": "R1V4oI7dLLfu"
   },
   "outputs": [],
   "source": [
    "pa_per_game=batting[batting.yearID ==2002].groupby('teamID').apply(extract_pa_per_game)\n",
    "average_pa_teamwise = pa_per_game.mean()"
   ]
  },
  {
   "cell_type": "code",
   "execution_count": 78,
   "metadata": {
    "colab": {
     "base_uri": "https://localhost:8080/"
    },
    "id": "kq-c55A1LLfu",
    "outputId": "4ad6b971-6300-47e0-d4de-ea3a3a4033ce"
   },
   "outputs": [
    {
     "data": {
      "text/plain": [
       "38.74656866970645"
      ]
     },
     "execution_count": 78,
     "metadata": {},
     "output_type": "execute_result"
    }
   ],
   "source": [
    "average_pa_teamwise"
   ]
  },
  {
   "cell_type": "code",
   "execution_count": 79,
   "metadata": {
    "id": "DUbmNOlnLLfu"
   },
   "outputs": [],
   "source": [
    "batting[\"PA\"] = batting[\"AB\"] + batting[\"BB\"]\n",
    "batting[\"singles\"] = batting[\"H\"] - batting[\"X2B\"] - batting[\"X3B\"] - batting[\"HR\"]"
   ]
  },
  {
   "cell_type": "code",
   "execution_count": 80,
   "metadata": {
    "id": "usXPsxWTLLfv"
   },
   "outputs": [],
   "source": [
    "players = batting[(batting.yearID >= 1997) & (batting.yearID <=2001)].groupby('playerID').agg(PA_sum = (\"PA\",sum),HR_sum=(\"HR\",sum),BB_sum=(\"BB\",sum),singles_sum=(\"singles\",sum),doubles_sum=(\"X2B\",sum),triples_sum=(\"X3B\",sum),AB_sum=(\"AB\",sum),H_sum=(\"H\",sum))\n",
    "players[\"Average_PA\"] = players[\"PA_sum\"]/average_pa_teamwise\n",
    "players[\"HR\"] = players[\"HR_sum\"]/players[\"Average_PA\"]\n",
    "players[\"BB\"] = players[\"BB_sum\"]/players[\"Average_PA\"]\n",
    "players[\"singles\"] = players[\"singles_sum\"]/players[\"Average_PA\"]\n",
    "players[\"doubles\"] = players[\"doubles_sum\"]/players['Average_PA']\n",
    "players[\"triples\"] = players[\"triples_sum\"]/players[\"Average_PA\"]\n",
    "players[\"Average\"] = players[\"H_sum\"]/players[\"AB_sum\"]\n",
    "players = players[players.PA_sum >= 1000]"
   ]
  },
  {
   "cell_type": "code",
   "execution_count": 81,
   "metadata": {
    "colab": {
     "base_uri": "https://localhost:8080/",
     "height": 227
    },
    "id": "Ma1zmdlWLLfv",
    "outputId": "154e50b7-c629-4f03-ef33-169a6b63d686"
   },
   "outputs": [
    {
     "data": {
      "text/html": [
       "<div>\n",
       "<style scoped>\n",
       "    .dataframe tbody tr th:only-of-type {\n",
       "        vertical-align: middle;\n",
       "    }\n",
       "\n",
       "    .dataframe tbody tr th {\n",
       "        vertical-align: top;\n",
       "    }\n",
       "\n",
       "    .dataframe thead th {\n",
       "        text-align: right;\n",
       "    }\n",
       "</style>\n",
       "<table border=\"1\" class=\"dataframe\">\n",
       "  <thead>\n",
       "    <tr style=\"text-align: right;\">\n",
       "      <th></th>\n",
       "      <th>PA_sum</th>\n",
       "      <th>HR_sum</th>\n",
       "      <th>BB_sum</th>\n",
       "      <th>singles_sum</th>\n",
       "      <th>doubles_sum</th>\n",
       "      <th>triples_sum</th>\n",
       "      <th>AB_sum</th>\n",
       "      <th>H_sum</th>\n",
       "      <th>Average_PA</th>\n",
       "      <th>HR</th>\n",
       "      <th>BB</th>\n",
       "      <th>singles</th>\n",
       "      <th>doubles</th>\n",
       "      <th>triples</th>\n",
       "      <th>Average</th>\n",
       "    </tr>\n",
       "    <tr>\n",
       "      <th>playerID</th>\n",
       "      <th></th>\n",
       "      <th></th>\n",
       "      <th></th>\n",
       "      <th></th>\n",
       "      <th></th>\n",
       "      <th></th>\n",
       "      <th></th>\n",
       "      <th></th>\n",
       "      <th></th>\n",
       "      <th></th>\n",
       "      <th></th>\n",
       "      <th></th>\n",
       "      <th></th>\n",
       "      <th></th>\n",
       "      <th></th>\n",
       "    </tr>\n",
       "  </thead>\n",
       "  <tbody>\n",
       "    <tr>\n",
       "      <th>abreubo01</th>\n",
       "      <td>2815</td>\n",
       "      <td>96</td>\n",
       "      <td>420</td>\n",
       "      <td>444</td>\n",
       "      <td>164</td>\n",
       "      <td>33</td>\n",
       "      <td>2395</td>\n",
       "      <td>737</td>\n",
       "      <td>72.651595</td>\n",
       "      <td>1.321375</td>\n",
       "      <td>5.781016</td>\n",
       "      <td>6.111359</td>\n",
       "      <td>2.257349</td>\n",
       "      <td>0.454223</td>\n",
       "      <td>0.307724</td>\n",
       "    </tr>\n",
       "    <tr>\n",
       "      <th>agbaybe01</th>\n",
       "      <td>1060</td>\n",
       "      <td>35</td>\n",
       "      <td>123</td>\n",
       "      <td>172</td>\n",
       "      <td>51</td>\n",
       "      <td>6</td>\n",
       "      <td>937</td>\n",
       "      <td>264</td>\n",
       "      <td>27.357261</td>\n",
       "      <td>1.279368</td>\n",
       "      <td>4.496064</td>\n",
       "      <td>6.287179</td>\n",
       "      <td>1.864222</td>\n",
       "      <td>0.219320</td>\n",
       "      <td>0.281750</td>\n",
       "    </tr>\n",
       "    <tr>\n",
       "      <th>alfoned01</th>\n",
       "      <td>3063</td>\n",
       "      <td>96</td>\n",
       "      <td>359</td>\n",
       "      <td>535</td>\n",
       "      <td>158</td>\n",
       "      <td>7</td>\n",
       "      <td>2704</td>\n",
       "      <td>796</td>\n",
       "      <td>79.052161</td>\n",
       "      <td>1.214388</td>\n",
       "      <td>4.541305</td>\n",
       "      <td>6.767683</td>\n",
       "      <td>1.998680</td>\n",
       "      <td>0.088549</td>\n",
       "      <td>0.294379</td>\n",
       "    </tr>\n",
       "    <tr>\n",
       "      <th>alicelu01</th>\n",
       "      <td>1954</td>\n",
       "      <td>24</td>\n",
       "      <td>216</td>\n",
       "      <td>339</td>\n",
       "      <td>82</td>\n",
       "      <td>22</td>\n",
       "      <td>1738</td>\n",
       "      <td>467</td>\n",
       "      <td>50.430272</td>\n",
       "      <td>0.475905</td>\n",
       "      <td>4.283142</td>\n",
       "      <td>6.722153</td>\n",
       "      <td>1.626007</td>\n",
       "      <td>0.436246</td>\n",
       "      <td>0.268700</td>\n",
       "    </tr>\n",
       "    <tr>\n",
       "      <th>alomaro01</th>\n",
       "      <td>3090</td>\n",
       "      <td>91</td>\n",
       "      <td>342</td>\n",
       "      <td>583</td>\n",
       "      <td>173</td>\n",
       "      <td>20</td>\n",
       "      <td>2748</td>\n",
       "      <td>867</td>\n",
       "      <td>79.748997</td>\n",
       "      <td>1.141080</td>\n",
       "      <td>4.288455</td>\n",
       "      <td>7.310437</td>\n",
       "      <td>2.169306</td>\n",
       "      <td>0.250787</td>\n",
       "      <td>0.315502</td>\n",
       "    </tr>\n",
       "  </tbody>\n",
       "</table>\n",
       "</div>"
      ],
      "text/plain": [
       "           PA_sum  HR_sum  BB_sum  singles_sum  doubles_sum  triples_sum  \\\n",
       "playerID                                                                   \n",
       "abreubo01    2815      96     420          444          164           33   \n",
       "agbaybe01    1060      35     123          172           51            6   \n",
       "alfoned01    3063      96     359          535          158            7   \n",
       "alicelu01    1954      24     216          339           82           22   \n",
       "alomaro01    3090      91     342          583          173           20   \n",
       "\n",
       "           AB_sum  H_sum  Average_PA        HR        BB   singles   doubles  \\\n",
       "playerID                                                                       \n",
       "abreubo01    2395    737   72.651595  1.321375  5.781016  6.111359  2.257349   \n",
       "agbaybe01     937    264   27.357261  1.279368  4.496064  6.287179  1.864222   \n",
       "alfoned01    2704    796   79.052161  1.214388  4.541305  6.767683  1.998680   \n",
       "alicelu01    1738    467   50.430272  0.475905  4.283142  6.722153  1.626007   \n",
       "alomaro01    2748    867   79.748997  1.141080  4.288455  7.310437  2.169306   \n",
       "\n",
       "            triples   Average  \n",
       "playerID                       \n",
       "abreubo01  0.454223  0.307724  \n",
       "agbaybe01  0.219320  0.281750  \n",
       "alfoned01  0.088549  0.294379  \n",
       "alicelu01  0.436246  0.268700  \n",
       "alomaro01  0.250787  0.315502  "
      ]
     },
     "execution_count": 81,
     "metadata": {},
     "output_type": "execute_result"
    }
   ],
   "source": [
    "players.head()"
   ]
  },
  {
   "cell_type": "code",
   "execution_count": 82,
   "metadata": {
    "colab": {
     "base_uri": "https://localhost:8080/",
     "height": 227
    },
    "id": "qksyiDWULLfv",
    "outputId": "67c99dc6-6959-486f-e5f5-5f821f135037"
   },
   "outputs": [
    {
     "data": {
      "text/html": [
       "<div>\n",
       "<style scoped>\n",
       "    .dataframe tbody tr th:only-of-type {\n",
       "        vertical-align: middle;\n",
       "    }\n",
       "\n",
       "    .dataframe tbody tr th {\n",
       "        vertical-align: top;\n",
       "    }\n",
       "\n",
       "    .dataframe thead th {\n",
       "        text-align: right;\n",
       "    }\n",
       "</style>\n",
       "<table border=\"1\" class=\"dataframe\">\n",
       "  <thead>\n",
       "    <tr style=\"text-align: right;\">\n",
       "      <th></th>\n",
       "      <th>HR</th>\n",
       "      <th>BB</th>\n",
       "      <th>singles</th>\n",
       "      <th>doubles</th>\n",
       "      <th>triples</th>\n",
       "    </tr>\n",
       "    <tr>\n",
       "      <th>playerID</th>\n",
       "      <th></th>\n",
       "      <th></th>\n",
       "      <th></th>\n",
       "      <th></th>\n",
       "      <th></th>\n",
       "    </tr>\n",
       "  </thead>\n",
       "  <tbody>\n",
       "    <tr>\n",
       "      <th>abreubo01</th>\n",
       "      <td>1.321375</td>\n",
       "      <td>5.781016</td>\n",
       "      <td>6.111359</td>\n",
       "      <td>2.257349</td>\n",
       "      <td>0.454223</td>\n",
       "    </tr>\n",
       "    <tr>\n",
       "      <th>agbaybe01</th>\n",
       "      <td>1.279368</td>\n",
       "      <td>4.496064</td>\n",
       "      <td>6.287179</td>\n",
       "      <td>1.864222</td>\n",
       "      <td>0.219320</td>\n",
       "    </tr>\n",
       "    <tr>\n",
       "      <th>alfoned01</th>\n",
       "      <td>1.214388</td>\n",
       "      <td>4.541305</td>\n",
       "      <td>6.767683</td>\n",
       "      <td>1.998680</td>\n",
       "      <td>0.088549</td>\n",
       "    </tr>\n",
       "    <tr>\n",
       "      <th>alicelu01</th>\n",
       "      <td>0.475905</td>\n",
       "      <td>4.283142</td>\n",
       "      <td>6.722153</td>\n",
       "      <td>1.626007</td>\n",
       "      <td>0.436246</td>\n",
       "    </tr>\n",
       "    <tr>\n",
       "      <th>alomaro01</th>\n",
       "      <td>1.141080</td>\n",
       "      <td>4.288455</td>\n",
       "      <td>7.310437</td>\n",
       "      <td>2.169306</td>\n",
       "      <td>0.250787</td>\n",
       "    </tr>\n",
       "  </tbody>\n",
       "</table>\n",
       "</div>"
      ],
      "text/plain": [
       "                 HR        BB   singles   doubles   triples\n",
       "playerID                                                   \n",
       "abreubo01  1.321375  5.781016  6.111359  2.257349  0.454223\n",
       "agbaybe01  1.279368  4.496064  6.287179  1.864222  0.219320\n",
       "alfoned01  1.214388  4.541305  6.767683  1.998680  0.088549\n",
       "alicelu01  0.475905  4.283142  6.722153  1.626007  0.436246\n",
       "alomaro01  1.141080  4.288455  7.310437  2.169306  0.250787"
      ]
     },
     "execution_count": 82,
     "metadata": {},
     "output_type": "execute_result"
    }
   ],
   "source": [
    "players_features = players[[\"HR\",\"BB\",\"singles\",\"doubles\",\"triples\"]]\n",
    "players_features.head()"
   ]
  },
  {
   "cell_type": "code",
   "execution_count": 107,
   "metadata": {
    "colab": {
     "base_uri": "https://localhost:8080/",
     "height": 227
    },
    "id": "JsE7cDe9LLfw",
    "outputId": "50435f82-281c-4edf-8fe6-3fdd146d4381"
   },
   "outputs": [
    {
     "data": {
      "text/html": [
       "<div>\n",
       "<style scoped>\n",
       "    .dataframe tbody tr th:only-of-type {\n",
       "        vertical-align: middle;\n",
       "    }\n",
       "\n",
       "    .dataframe tbody tr th {\n",
       "        vertical-align: top;\n",
       "    }\n",
       "\n",
       "    .dataframe thead th {\n",
       "        text-align: right;\n",
       "    }\n",
       "</style>\n",
       "<table border=\"1\" class=\"dataframe\">\n",
       "  <thead>\n",
       "    <tr style=\"text-align: right;\">\n",
       "      <th></th>\n",
       "      <th>playerID</th>\n",
       "      <th>nameFirst</th>\n",
       "      <th>nameLast</th>\n",
       "      <th>HR</th>\n",
       "      <th>BB</th>\n",
       "      <th>singles</th>\n",
       "      <th>doubles</th>\n",
       "      <th>triples</th>\n",
       "      <th>R_hat</th>\n",
       "      <th>R_hat_linear</th>\n",
       "    </tr>\n",
       "  </thead>\n",
       "  <tbody>\n",
       "    <tr>\n",
       "      <th>0</th>\n",
       "      <td>abreubo01</td>\n",
       "      <td>Bobby</td>\n",
       "      <td>Abreu</td>\n",
       "      <td>1.321375</td>\n",
       "      <td>5.781016</td>\n",
       "      <td>6.111359</td>\n",
       "      <td>2.257349</td>\n",
       "      <td>0.454223</td>\n",
       "      <td>4.117779</td>\n",
       "      <td>8.891339</td>\n",
       "    </tr>\n",
       "    <tr>\n",
       "      <th>1</th>\n",
       "      <td>agbaybe01</td>\n",
       "      <td>Benny</td>\n",
       "      <td>Agbayani</td>\n",
       "      <td>1.279368</td>\n",
       "      <td>4.496064</td>\n",
       "      <td>6.287179</td>\n",
       "      <td>1.864222</td>\n",
       "      <td>0.219320</td>\n",
       "      <td>4.119279</td>\n",
       "      <td>7.517417</td>\n",
       "    </tr>\n",
       "    <tr>\n",
       "      <th>2</th>\n",
       "      <td>alfoned01</td>\n",
       "      <td>Edgardo</td>\n",
       "      <td>Alfonzo</td>\n",
       "      <td>1.214388</td>\n",
       "      <td>4.541305</td>\n",
       "      <td>6.767683</td>\n",
       "      <td>1.998680</td>\n",
       "      <td>0.088549</td>\n",
       "      <td>4.119279</td>\n",
       "      <td>7.865305</td>\n",
       "    </tr>\n",
       "    <tr>\n",
       "      <th>3</th>\n",
       "      <td>alicelu01</td>\n",
       "      <td>Luis</td>\n",
       "      <td>Alicea</td>\n",
       "      <td>0.475905</td>\n",
       "      <td>4.283142</td>\n",
       "      <td>6.722153</td>\n",
       "      <td>1.626007</td>\n",
       "      <td>0.436246</td>\n",
       "      <td>4.119279</td>\n",
       "      <td>7.461723</td>\n",
       "    </tr>\n",
       "    <tr>\n",
       "      <th>4</th>\n",
       "      <td>alomaro01</td>\n",
       "      <td>Roberto</td>\n",
       "      <td>Alomar</td>\n",
       "      <td>1.141080</td>\n",
       "      <td>4.288455</td>\n",
       "      <td>7.310437</td>\n",
       "      <td>2.169306</td>\n",
       "      <td>0.250787</td>\n",
       "      <td>4.119279</td>\n",
       "      <td>8.571045</td>\n",
       "    </tr>\n",
       "  </tbody>\n",
       "</table>\n",
       "</div>"
      ],
      "text/plain": [
       "    playerID nameFirst  nameLast        HR        BB   singles   doubles  \\\n",
       "0  abreubo01     Bobby     Abreu  1.321375  5.781016  6.111359  2.257349   \n",
       "1  agbaybe01     Benny  Agbayani  1.279368  4.496064  6.287179  1.864222   \n",
       "2  alfoned01   Edgardo   Alfonzo  1.214388  4.541305  6.767683  1.998680   \n",
       "3  alicelu01      Luis    Alicea  0.475905  4.283142  6.722153  1.626007   \n",
       "4  alomaro01   Roberto    Alomar  1.141080  4.288455  7.310437  2.169306   \n",
       "\n",
       "    triples     R_hat  R_hat_linear  \n",
       "0  0.454223  4.117779      8.891339  \n",
       "1  0.219320  4.119279      7.517417  \n",
       "2  0.088549  4.119279      7.865305  \n",
       "3  0.436246  4.119279      7.461723  \n",
       "4  0.250787  4.119279      8.571045  "
      ]
     },
     "execution_count": 107,
     "metadata": {},
     "output_type": "execute_result"
    }
   ],
   "source": [
    "# the code here is changed to make two predictions at the same time\n",
    "players_features[\"R_hat\"]=(model.predict(players_features[[\"HR\",\"BB\",\"singles\",\"doubles\",\"triples\"]]))\n",
    "players_features[\"R_hat_linear\"] = (linear_model.predict(players_features[[\"HR\",\"BB\",\"singles\",\"doubles\",\"triples\"]]))\n",
    "players_features.head()"
   ]
  },
  {
   "cell_type": "code",
   "execution_count": 108,
   "metadata": {
    "colab": {
     "base_uri": "https://localhost:8080/",
     "height": 197
    },
    "id": "GJDrdUcRsp37",
    "outputId": "777ec576-b609-400c-a597-db2b6c9731cf"
   },
   "outputs": [
    {
     "data": {
      "text/html": [
       "<div>\n",
       "<style scoped>\n",
       "    .dataframe tbody tr th:only-of-type {\n",
       "        vertical-align: middle;\n",
       "    }\n",
       "\n",
       "    .dataframe tbody tr th {\n",
       "        vertical-align: top;\n",
       "    }\n",
       "\n",
       "    .dataframe thead th {\n",
       "        text-align: right;\n",
       "    }\n",
       "</style>\n",
       "<table border=\"1\" class=\"dataframe\">\n",
       "  <thead>\n",
       "    <tr style=\"text-align: right;\">\n",
       "      <th></th>\n",
       "      <th>playerID</th>\n",
       "      <th>nameFirst_x</th>\n",
       "      <th>nameLast_x</th>\n",
       "      <th>nameFirst_y</th>\n",
       "      <th>nameLast_y</th>\n",
       "      <th>HR</th>\n",
       "      <th>BB</th>\n",
       "      <th>singles</th>\n",
       "      <th>doubles</th>\n",
       "      <th>triples</th>\n",
       "      <th>R_hat</th>\n",
       "      <th>R_hat_linear</th>\n",
       "    </tr>\n",
       "  </thead>\n",
       "  <tbody>\n",
       "    <tr>\n",
       "      <th>0</th>\n",
       "      <td>abreubo01</td>\n",
       "      <td>Bobby</td>\n",
       "      <td>Abreu</td>\n",
       "      <td>Bobby</td>\n",
       "      <td>Abreu</td>\n",
       "      <td>1.321375</td>\n",
       "      <td>5.781016</td>\n",
       "      <td>6.111359</td>\n",
       "      <td>2.257349</td>\n",
       "      <td>0.454223</td>\n",
       "      <td>4.117779</td>\n",
       "      <td>8.891339</td>\n",
       "    </tr>\n",
       "    <tr>\n",
       "      <th>1</th>\n",
       "      <td>agbaybe01</td>\n",
       "      <td>Benny</td>\n",
       "      <td>Agbayani</td>\n",
       "      <td>Benny</td>\n",
       "      <td>Agbayani</td>\n",
       "      <td>1.279368</td>\n",
       "      <td>4.496064</td>\n",
       "      <td>6.287179</td>\n",
       "      <td>1.864222</td>\n",
       "      <td>0.219320</td>\n",
       "      <td>4.119279</td>\n",
       "      <td>7.517417</td>\n",
       "    </tr>\n",
       "    <tr>\n",
       "      <th>2</th>\n",
       "      <td>alfoned01</td>\n",
       "      <td>Edgardo</td>\n",
       "      <td>Alfonzo</td>\n",
       "      <td>Edgardo</td>\n",
       "      <td>Alfonzo</td>\n",
       "      <td>1.214388</td>\n",
       "      <td>4.541305</td>\n",
       "      <td>6.767683</td>\n",
       "      <td>1.998680</td>\n",
       "      <td>0.088549</td>\n",
       "      <td>4.119279</td>\n",
       "      <td>7.865305</td>\n",
       "    </tr>\n",
       "    <tr>\n",
       "      <th>3</th>\n",
       "      <td>alicelu01</td>\n",
       "      <td>Luis</td>\n",
       "      <td>Alicea</td>\n",
       "      <td>Luis</td>\n",
       "      <td>Alicea</td>\n",
       "      <td>0.475905</td>\n",
       "      <td>4.283142</td>\n",
       "      <td>6.722153</td>\n",
       "      <td>1.626007</td>\n",
       "      <td>0.436246</td>\n",
       "      <td>4.119279</td>\n",
       "      <td>7.461723</td>\n",
       "    </tr>\n",
       "    <tr>\n",
       "      <th>4</th>\n",
       "      <td>alomaro01</td>\n",
       "      <td>Roberto</td>\n",
       "      <td>Alomar</td>\n",
       "      <td>Roberto</td>\n",
       "      <td>Alomar</td>\n",
       "      <td>1.141080</td>\n",
       "      <td>4.288455</td>\n",
       "      <td>7.310437</td>\n",
       "      <td>2.169306</td>\n",
       "      <td>0.250787</td>\n",
       "      <td>4.119279</td>\n",
       "      <td>8.571045</td>\n",
       "    </tr>\n",
       "  </tbody>\n",
       "</table>\n",
       "</div>"
      ],
      "text/plain": [
       "    playerID nameFirst_x nameLast_x nameFirst_y nameLast_y        HR  \\\n",
       "0  abreubo01       Bobby      Abreu       Bobby      Abreu  1.321375   \n",
       "1  agbaybe01       Benny   Agbayani       Benny   Agbayani  1.279368   \n",
       "2  alfoned01     Edgardo    Alfonzo     Edgardo    Alfonzo  1.214388   \n",
       "3  alicelu01        Luis     Alicea        Luis     Alicea  0.475905   \n",
       "4  alomaro01     Roberto     Alomar     Roberto     Alomar  1.141080   \n",
       "\n",
       "         BB   singles   doubles   triples     R_hat  R_hat_linear  \n",
       "0  5.781016  6.111359  2.257349  0.454223  4.117779      8.891339  \n",
       "1  4.496064  6.287179  1.864222  0.219320  4.119279      7.517417  \n",
       "2  4.541305  6.767683  1.998680  0.088549  4.119279      7.865305  \n",
       "3  4.283142  6.722153  1.626007  0.436246  4.119279      7.461723  \n",
       "4  4.288455  7.310437  2.169306  0.250787  4.119279      8.571045  "
      ]
     },
     "execution_count": 108,
     "metadata": {},
     "output_type": "execute_result"
    }
   ],
   "source": [
    "master = pd.read_csv(\"https://raw.githubusercontent.com/tleitch/BDML/main/data/master.csv\")\n",
    "players_features  =  pd.merge(master[[\"playerID\",\"nameFirst\",\"nameLast\"]],players_features,on=\"playerID\")\n",
    "players_features.head()"
   ]
  },
  {
   "cell_type": "markdown",
   "metadata": {
    "id": "LHlW3b2DLLfw"
   },
   "source": [
    "The player-specific predicted runs computed here can be interpreted as the number of runs we predict a team  will score if all batters are exactly like that player "
   ]
  },
  {
   "cell_type": "markdown",
   "metadata": {
    "id": "M1CRTNINLLfx"
   },
   "source": [
    "## Adding salary information ##"
   ]
  },
  {
   "cell_type": "markdown",
   "metadata": {
    "id": "6ehXaCn_gWPZ"
   },
   "source": [
    "To actually build the team, we will need to know their salaries as well as their defensive position."
   ]
  },
  {
   "cell_type": "code",
   "execution_count": 109,
   "metadata": {
    "id": "AneE8PixLLfx"
   },
   "outputs": [],
   "source": [
    "Salaries=pd.read_csv(\"https://raw.githubusercontent.com/tleitch/BDML/main/data/salaries.csv\")"
   ]
  },
  {
   "cell_type": "code",
   "execution_count": 110,
   "metadata": {
    "id": "VWyr8Y9rLLfx"
   },
   "outputs": [],
   "source": [
    "salaries_yr_2002 =Salaries[Salaries.yearID==2002]\n",
    "salaries_yr_2002= salaries_yr_2002[[\"playerID\",\"salary\"]]"
   ]
  },
  {
   "cell_type": "code",
   "execution_count": 111,
   "metadata": {
    "colab": {
     "base_uri": "https://localhost:8080/",
     "height": 197
    },
    "id": "b8bL3idbLLfx",
    "outputId": "51dce197-9afd-49af-f4ea-3fc56f0b818c"
   },
   "outputs": [
    {
     "data": {
      "text/html": [
       "<div>\n",
       "<style scoped>\n",
       "    .dataframe tbody tr th:only-of-type {\n",
       "        vertical-align: middle;\n",
       "    }\n",
       "\n",
       "    .dataframe tbody tr th {\n",
       "        vertical-align: top;\n",
       "    }\n",
       "\n",
       "    .dataframe thead th {\n",
       "        text-align: right;\n",
       "    }\n",
       "</style>\n",
       "<table border=\"1\" class=\"dataframe\">\n",
       "  <thead>\n",
       "    <tr style=\"text-align: right;\">\n",
       "      <th></th>\n",
       "      <th>playerID</th>\n",
       "      <th>salary</th>\n",
       "      <th>nameFirst_x</th>\n",
       "      <th>nameLast_x</th>\n",
       "      <th>nameFirst_y</th>\n",
       "      <th>nameLast_y</th>\n",
       "      <th>HR</th>\n",
       "      <th>BB</th>\n",
       "      <th>singles</th>\n",
       "      <th>doubles</th>\n",
       "      <th>triples</th>\n",
       "      <th>R_hat</th>\n",
       "      <th>R_hat_linear</th>\n",
       "    </tr>\n",
       "  </thead>\n",
       "  <tbody>\n",
       "    <tr>\n",
       "      <th>0</th>\n",
       "      <td>anderga01</td>\n",
       "      <td>5000000</td>\n",
       "      <td>Garret</td>\n",
       "      <td>Anderson</td>\n",
       "      <td>Garret</td>\n",
       "      <td>Anderson</td>\n",
       "      <td>1.245384</td>\n",
       "      <td>1.676031</td>\n",
       "      <td>7.251160</td>\n",
       "      <td>2.234707</td>\n",
       "      <td>0.197865</td>\n",
       "      <td>4.119279</td>\n",
       "      <td>7.211889</td>\n",
       "    </tr>\n",
       "    <tr>\n",
       "      <th>1</th>\n",
       "      <td>erstada01</td>\n",
       "      <td>6250000</td>\n",
       "      <td>Darin</td>\n",
       "      <td>Erstad</td>\n",
       "      <td>Darin</td>\n",
       "      <td>Erstad</td>\n",
       "      <td>0.982139</td>\n",
       "      <td>3.197939</td>\n",
       "      <td>7.198358</td>\n",
       "      <td>2.024164</td>\n",
       "      <td>0.227569</td>\n",
       "      <td>4.119279</td>\n",
       "      <td>7.645725</td>\n",
       "    </tr>\n",
       "    <tr>\n",
       "      <th>2</th>\n",
       "      <td>fabrejo01</td>\n",
       "      <td>500000</td>\n",
       "      <td>Jorge</td>\n",
       "      <td>Fabregas</td>\n",
       "      <td>Jorge</td>\n",
       "      <td>Fabregas</td>\n",
       "      <td>0.583429</td>\n",
       "      <td>2.230759</td>\n",
       "      <td>6.623638</td>\n",
       "      <td>1.132539</td>\n",
       "      <td>0.171597</td>\n",
       "      <td>4.119279</td>\n",
       "      <td>5.365805</td>\n",
       "    </tr>\n",
       "    <tr>\n",
       "      <th>3</th>\n",
       "      <td>fullmbr01</td>\n",
       "      <td>4000000</td>\n",
       "      <td>Brad</td>\n",
       "      <td>Fullmer</td>\n",
       "      <td>Brad</td>\n",
       "      <td>Fullmer</td>\n",
       "      <td>1.433642</td>\n",
       "      <td>2.504095</td>\n",
       "      <td>5.906606</td>\n",
       "      <td>2.676132</td>\n",
       "      <td>0.133807</td>\n",
       "      <td>4.119279</td>\n",
       "      <td>7.129912</td>\n",
       "    </tr>\n",
       "    <tr>\n",
       "      <th>4</th>\n",
       "      <td>glaustr01</td>\n",
       "      <td>4000000</td>\n",
       "      <td>Troy</td>\n",
       "      <td>Glaus</td>\n",
       "      <td>Troy</td>\n",
       "      <td>Glaus</td>\n",
       "      <td>2.105016</td>\n",
       "      <td>5.440932</td>\n",
       "      <td>4.299228</td>\n",
       "      <td>2.015821</td>\n",
       "      <td>0.053517</td>\n",
       "      <td>4.119279</td>\n",
       "      <td>6.730333</td>\n",
       "    </tr>\n",
       "  </tbody>\n",
       "</table>\n",
       "</div>"
      ],
      "text/plain": [
       "    playerID   salary nameFirst_x nameLast_x nameFirst_y nameLast_y        HR  \\\n",
       "0  anderga01  5000000      Garret   Anderson      Garret   Anderson  1.245384   \n",
       "1  erstada01  6250000       Darin     Erstad       Darin     Erstad  0.982139   \n",
       "2  fabrejo01   500000       Jorge   Fabregas       Jorge   Fabregas  0.583429   \n",
       "3  fullmbr01  4000000        Brad    Fullmer        Brad    Fullmer  1.433642   \n",
       "4  glaustr01  4000000        Troy      Glaus        Troy      Glaus  2.105016   \n",
       "\n",
       "         BB   singles   doubles   triples     R_hat  R_hat_linear  \n",
       "0  1.676031  7.251160  2.234707  0.197865  4.119279      7.211889  \n",
       "1  3.197939  7.198358  2.024164  0.227569  4.119279      7.645725  \n",
       "2  2.230759  6.623638  1.132539  0.171597  4.119279      5.365805  \n",
       "3  2.504095  5.906606  2.676132  0.133807  4.119279      7.129912  \n",
       "4  5.440932  4.299228  2.015821  0.053517  4.119279      6.730333  "
      ]
     },
     "execution_count": 111,
     "metadata": {},
     "output_type": "execute_result"
    }
   ],
   "source": [
    "player_insights = pd.merge(salaries_yr_2002, players_features, on='playerID')\n",
    "player_insights.head()"
   ]
  },
  {
   "cell_type": "markdown",
   "metadata": {
    "id": "zETj1i3FLLfy"
   },
   "source": [
    "## Adding position information ##"
   ]
  },
  {
   "cell_type": "markdown",
   "metadata": {
    "id": "aYZEDKEKftpF"
   },
   "source": [
    "Next, we add their defensive position. This is a somewhat complicated task because players play more than one position each year. Appearances data tells how many games each player played in each position, so we can pick the position that was most played for each player. However, because some players are traded, they appear more than once on the table, so we first sum their appearances across teams. We remove pitchers since they don’t bat in the league in which the A’s play."
   ]
  },
  {
   "cell_type": "code",
   "execution_count": 112,
   "metadata": {
    "id": "2bTeCCwSLLfz"
   },
   "outputs": [],
   "source": [
    "appearances = pd.read_csv(\"https://raw.githubusercontent.com/tleitch/BDML/main/data/appearances.csv\")\n",
    "            "
   ]
  },
  {
   "cell_type": "code",
   "execution_count": 113,
   "metadata": {
    "colab": {
     "base_uri": "https://localhost:8080/",
     "height": 197
    },
    "id": "-3BSj1i-LLfz",
    "outputId": "03d1b04b-3e6a-4713-f27f-a6354ad0d7eb"
   },
   "outputs": [
    {
     "data": {
      "text/html": [
       "<div>\n",
       "<style scoped>\n",
       "    .dataframe tbody tr th:only-of-type {\n",
       "        vertical-align: middle;\n",
       "    }\n",
       "\n",
       "    .dataframe tbody tr th {\n",
       "        vertical-align: top;\n",
       "    }\n",
       "\n",
       "    .dataframe thead th {\n",
       "        text-align: right;\n",
       "    }\n",
       "</style>\n",
       "<table border=\"1\" class=\"dataframe\">\n",
       "  <thead>\n",
       "    <tr style=\"text-align: right;\">\n",
       "      <th></th>\n",
       "      <th>Unnamed: 0</th>\n",
       "      <th>yearID</th>\n",
       "      <th>teamID</th>\n",
       "      <th>lgID</th>\n",
       "      <th>playerID</th>\n",
       "      <th>G_all</th>\n",
       "      <th>GS</th>\n",
       "      <th>G_batting</th>\n",
       "      <th>G_defense</th>\n",
       "      <th>G_p</th>\n",
       "      <th>...</th>\n",
       "      <th>G_2b</th>\n",
       "      <th>G_3b</th>\n",
       "      <th>G_ss</th>\n",
       "      <th>G_lf</th>\n",
       "      <th>G_cf</th>\n",
       "      <th>G_rf</th>\n",
       "      <th>G_of</th>\n",
       "      <th>G_dh</th>\n",
       "      <th>G_ph</th>\n",
       "      <th>G_pr</th>\n",
       "    </tr>\n",
       "  </thead>\n",
       "  <tbody>\n",
       "    <tr>\n",
       "      <th>0</th>\n",
       "      <td>1</td>\n",
       "      <td>1871</td>\n",
       "      <td>TRO</td>\n",
       "      <td>NaN</td>\n",
       "      <td>abercda01</td>\n",
       "      <td>1</td>\n",
       "      <td>1.0</td>\n",
       "      <td>1</td>\n",
       "      <td>1.0</td>\n",
       "      <td>0</td>\n",
       "      <td>...</td>\n",
       "      <td>0</td>\n",
       "      <td>0</td>\n",
       "      <td>1</td>\n",
       "      <td>0</td>\n",
       "      <td>0</td>\n",
       "      <td>0</td>\n",
       "      <td>0</td>\n",
       "      <td>0.0</td>\n",
       "      <td>0.0</td>\n",
       "      <td>0.0</td>\n",
       "    </tr>\n",
       "    <tr>\n",
       "      <th>1</th>\n",
       "      <td>2</td>\n",
       "      <td>1871</td>\n",
       "      <td>RC1</td>\n",
       "      <td>NaN</td>\n",
       "      <td>addybo01</td>\n",
       "      <td>25</td>\n",
       "      <td>25.0</td>\n",
       "      <td>25</td>\n",
       "      <td>25.0</td>\n",
       "      <td>0</td>\n",
       "      <td>...</td>\n",
       "      <td>22</td>\n",
       "      <td>0</td>\n",
       "      <td>3</td>\n",
       "      <td>0</td>\n",
       "      <td>0</td>\n",
       "      <td>0</td>\n",
       "      <td>0</td>\n",
       "      <td>0.0</td>\n",
       "      <td>0.0</td>\n",
       "      <td>0.0</td>\n",
       "    </tr>\n",
       "    <tr>\n",
       "      <th>2</th>\n",
       "      <td>3</td>\n",
       "      <td>1871</td>\n",
       "      <td>CL1</td>\n",
       "      <td>NaN</td>\n",
       "      <td>allisar01</td>\n",
       "      <td>29</td>\n",
       "      <td>29.0</td>\n",
       "      <td>29</td>\n",
       "      <td>29.0</td>\n",
       "      <td>0</td>\n",
       "      <td>...</td>\n",
       "      <td>2</td>\n",
       "      <td>0</td>\n",
       "      <td>0</td>\n",
       "      <td>0</td>\n",
       "      <td>29</td>\n",
       "      <td>0</td>\n",
       "      <td>29</td>\n",
       "      <td>0.0</td>\n",
       "      <td>0.0</td>\n",
       "      <td>0.0</td>\n",
       "    </tr>\n",
       "    <tr>\n",
       "      <th>3</th>\n",
       "      <td>4</td>\n",
       "      <td>1871</td>\n",
       "      <td>WS3</td>\n",
       "      <td>NaN</td>\n",
       "      <td>allisdo01</td>\n",
       "      <td>27</td>\n",
       "      <td>27.0</td>\n",
       "      <td>27</td>\n",
       "      <td>27.0</td>\n",
       "      <td>0</td>\n",
       "      <td>...</td>\n",
       "      <td>0</td>\n",
       "      <td>0</td>\n",
       "      <td>0</td>\n",
       "      <td>0</td>\n",
       "      <td>0</td>\n",
       "      <td>0</td>\n",
       "      <td>0</td>\n",
       "      <td>0.0</td>\n",
       "      <td>0.0</td>\n",
       "      <td>0.0</td>\n",
       "    </tr>\n",
       "    <tr>\n",
       "      <th>4</th>\n",
       "      <td>5</td>\n",
       "      <td>1871</td>\n",
       "      <td>RC1</td>\n",
       "      <td>NaN</td>\n",
       "      <td>ansonca01</td>\n",
       "      <td>25</td>\n",
       "      <td>25.0</td>\n",
       "      <td>25</td>\n",
       "      <td>25.0</td>\n",
       "      <td>0</td>\n",
       "      <td>...</td>\n",
       "      <td>2</td>\n",
       "      <td>20</td>\n",
       "      <td>0</td>\n",
       "      <td>1</td>\n",
       "      <td>0</td>\n",
       "      <td>0</td>\n",
       "      <td>1</td>\n",
       "      <td>0.0</td>\n",
       "      <td>0.0</td>\n",
       "      <td>0.0</td>\n",
       "    </tr>\n",
       "  </tbody>\n",
       "</table>\n",
       "<p>5 rows × 22 columns</p>\n",
       "</div>"
      ],
      "text/plain": [
       "   Unnamed: 0  yearID teamID lgID   playerID  G_all    GS  G_batting  \\\n",
       "0           1    1871    TRO  NaN  abercda01      1   1.0          1   \n",
       "1           2    1871    RC1  NaN   addybo01     25  25.0         25   \n",
       "2           3    1871    CL1  NaN  allisar01     29  29.0         29   \n",
       "3           4    1871    WS3  NaN  allisdo01     27  27.0         27   \n",
       "4           5    1871    RC1  NaN  ansonca01     25  25.0         25   \n",
       "\n",
       "   G_defense  G_p  ...  G_2b  G_3b  G_ss  G_lf  G_cf  G_rf  G_of  G_dh  G_ph  \\\n",
       "0        1.0    0  ...     0     0     1     0     0     0     0   0.0   0.0   \n",
       "1       25.0    0  ...    22     0     3     0     0     0     0   0.0   0.0   \n",
       "2       29.0    0  ...     2     0     0     0    29     0    29   0.0   0.0   \n",
       "3       27.0    0  ...     0     0     0     0     0     0     0   0.0   0.0   \n",
       "4       25.0    0  ...     2    20     0     1     0     0     1   0.0   0.0   \n",
       "\n",
       "   G_pr  \n",
       "0   0.0  \n",
       "1   0.0  \n",
       "2   0.0  \n",
       "3   0.0  \n",
       "4   0.0  \n",
       "\n",
       "[5 rows x 22 columns]"
      ]
     },
     "execution_count": 113,
     "metadata": {},
     "output_type": "execute_result"
    }
   ],
   "source": [
    "appearances.head()"
   ]
  },
  {
   "cell_type": "code",
   "execution_count": 114,
   "metadata": {
    "id": "uEY_YB-0LLfz"
   },
   "outputs": [],
   "source": [
    "append_str = 'G_'\n",
    "position_names = [\"p\",\"c\",\"1b\",\"2b\",\"3b\",\"ss\",\"lf\",\"cf\",\"rf\", \"dh\"]\n",
    "position_names = [append_str + sub for sub in position_names]"
   ]
  },
  {
   "cell_type": "code",
   "execution_count": 115,
   "metadata": {
    "id": "b_HO59-DLLfz"
   },
   "outputs": [],
   "source": [
    "operations_dict = {}\n",
    "for term in position_names:\n",
    "    operations_dict[term] = \"sum\""
   ]
  },
  {
   "cell_type": "code",
   "execution_count": 116,
   "metadata": {
    "id": "tVBsTjvPLLf0"
   },
   "outputs": [],
   "source": [
    "result = appearances[appearances.yearID == 2002].groupby(\"playerID\").agg(operations_dict)"
   ]
  },
  {
   "cell_type": "code",
   "execution_count": 117,
   "metadata": {
    "colab": {
     "base_uri": "https://localhost:8080/",
     "height": 227
    },
    "id": "D6LG11FeLLf0",
    "outputId": "116cc74d-c262-49fe-b9f9-8a10e8fc1b57"
   },
   "outputs": [
    {
     "data": {
      "text/html": [
       "<div>\n",
       "<style scoped>\n",
       "    .dataframe tbody tr th:only-of-type {\n",
       "        vertical-align: middle;\n",
       "    }\n",
       "\n",
       "    .dataframe tbody tr th {\n",
       "        vertical-align: top;\n",
       "    }\n",
       "\n",
       "    .dataframe thead th {\n",
       "        text-align: right;\n",
       "    }\n",
       "</style>\n",
       "<table border=\"1\" class=\"dataframe\">\n",
       "  <thead>\n",
       "    <tr style=\"text-align: right;\">\n",
       "      <th></th>\n",
       "      <th>G_p</th>\n",
       "      <th>G_c</th>\n",
       "      <th>G_1b</th>\n",
       "      <th>G_2b</th>\n",
       "      <th>G_3b</th>\n",
       "      <th>G_ss</th>\n",
       "      <th>G_lf</th>\n",
       "      <th>G_cf</th>\n",
       "      <th>G_rf</th>\n",
       "      <th>G_dh</th>\n",
       "    </tr>\n",
       "    <tr>\n",
       "      <th>playerID</th>\n",
       "      <th></th>\n",
       "      <th></th>\n",
       "      <th></th>\n",
       "      <th></th>\n",
       "      <th></th>\n",
       "      <th></th>\n",
       "      <th></th>\n",
       "      <th></th>\n",
       "      <th></th>\n",
       "      <th></th>\n",
       "    </tr>\n",
       "  </thead>\n",
       "  <tbody>\n",
       "    <tr>\n",
       "      <th>abbotpa01</th>\n",
       "      <td>7</td>\n",
       "      <td>0</td>\n",
       "      <td>0</td>\n",
       "      <td>0</td>\n",
       "      <td>0</td>\n",
       "      <td>0</td>\n",
       "      <td>0</td>\n",
       "      <td>0</td>\n",
       "      <td>0</td>\n",
       "      <td>0.0</td>\n",
       "    </tr>\n",
       "    <tr>\n",
       "      <th>abernbr01</th>\n",
       "      <td>0</td>\n",
       "      <td>0</td>\n",
       "      <td>0</td>\n",
       "      <td>116</td>\n",
       "      <td>0</td>\n",
       "      <td>0</td>\n",
       "      <td>0</td>\n",
       "      <td>0</td>\n",
       "      <td>0</td>\n",
       "      <td>1.0</td>\n",
       "    </tr>\n",
       "    <tr>\n",
       "      <th>abreubo01</th>\n",
       "      <td>0</td>\n",
       "      <td>0</td>\n",
       "      <td>0</td>\n",
       "      <td>0</td>\n",
       "      <td>0</td>\n",
       "      <td>0</td>\n",
       "      <td>0</td>\n",
       "      <td>18</td>\n",
       "      <td>148</td>\n",
       "      <td>0.0</td>\n",
       "    </tr>\n",
       "    <tr>\n",
       "      <th>acevejo01</th>\n",
       "      <td>6</td>\n",
       "      <td>0</td>\n",
       "      <td>0</td>\n",
       "      <td>0</td>\n",
       "      <td>0</td>\n",
       "      <td>0</td>\n",
       "      <td>0</td>\n",
       "      <td>0</td>\n",
       "      <td>0</td>\n",
       "      <td>0.0</td>\n",
       "    </tr>\n",
       "    <tr>\n",
       "      <th>aceveju01</th>\n",
       "      <td>65</td>\n",
       "      <td>0</td>\n",
       "      <td>0</td>\n",
       "      <td>0</td>\n",
       "      <td>0</td>\n",
       "      <td>0</td>\n",
       "      <td>0</td>\n",
       "      <td>0</td>\n",
       "      <td>0</td>\n",
       "      <td>0.0</td>\n",
       "    </tr>\n",
       "  </tbody>\n",
       "</table>\n",
       "</div>"
      ],
      "text/plain": [
       "           G_p  G_c  G_1b  G_2b  G_3b  G_ss  G_lf  G_cf  G_rf  G_dh\n",
       "playerID                                                           \n",
       "abbotpa01    7    0     0     0     0     0     0     0     0   0.0\n",
       "abernbr01    0    0     0   116     0     0     0     0     0   1.0\n",
       "abreubo01    0    0     0     0     0     0     0    18   148   0.0\n",
       "acevejo01    6    0     0     0     0     0     0     0     0   0.0\n",
       "aceveju01   65    0     0     0     0     0     0     0     0   0.0"
      ]
     },
     "execution_count": 117,
     "metadata": {},
     "output_type": "execute_result"
    }
   ],
   "source": [
    "result.head()"
   ]
  },
  {
   "cell_type": "code",
   "execution_count": 118,
   "metadata": {
    "id": "uXbzRjbVLLf0"
   },
   "outputs": [],
   "source": [
    "def max_position(x):\n",
    "    \n",
    "    position_counts = [x[term] for term in position_names]\n",
    "    return position_counts.index(max(position_counts))"
   ]
  },
  {
   "cell_type": "code",
   "execution_count": 119,
   "metadata": {
    "id": "lF9YDxL1LLf1"
   },
   "outputs": [],
   "source": [
    "result[\"most_played_position\"] = result.apply(lambda x : position_names[max_position(x)][2:],axis=1)"
   ]
  },
  {
   "cell_type": "code",
   "execution_count": 120,
   "metadata": {
    "colab": {
     "base_uri": "https://localhost:8080/",
     "height": 227
    },
    "id": "UKe9gB3vLLf1",
    "outputId": "bec783d7-02a0-4b77-dedf-54783aa453d0"
   },
   "outputs": [
    {
     "data": {
      "text/html": [
       "<div>\n",
       "<style scoped>\n",
       "    .dataframe tbody tr th:only-of-type {\n",
       "        vertical-align: middle;\n",
       "    }\n",
       "\n",
       "    .dataframe tbody tr th {\n",
       "        vertical-align: top;\n",
       "    }\n",
       "\n",
       "    .dataframe thead th {\n",
       "        text-align: right;\n",
       "    }\n",
       "</style>\n",
       "<table border=\"1\" class=\"dataframe\">\n",
       "  <thead>\n",
       "    <tr style=\"text-align: right;\">\n",
       "      <th></th>\n",
       "      <th>G_p</th>\n",
       "      <th>G_c</th>\n",
       "      <th>G_1b</th>\n",
       "      <th>G_2b</th>\n",
       "      <th>G_3b</th>\n",
       "      <th>G_ss</th>\n",
       "      <th>G_lf</th>\n",
       "      <th>G_cf</th>\n",
       "      <th>G_rf</th>\n",
       "      <th>G_dh</th>\n",
       "      <th>most_played_position</th>\n",
       "    </tr>\n",
       "    <tr>\n",
       "      <th>playerID</th>\n",
       "      <th></th>\n",
       "      <th></th>\n",
       "      <th></th>\n",
       "      <th></th>\n",
       "      <th></th>\n",
       "      <th></th>\n",
       "      <th></th>\n",
       "      <th></th>\n",
       "      <th></th>\n",
       "      <th></th>\n",
       "      <th></th>\n",
       "    </tr>\n",
       "  </thead>\n",
       "  <tbody>\n",
       "    <tr>\n",
       "      <th>abbotpa01</th>\n",
       "      <td>7</td>\n",
       "      <td>0</td>\n",
       "      <td>0</td>\n",
       "      <td>0</td>\n",
       "      <td>0</td>\n",
       "      <td>0</td>\n",
       "      <td>0</td>\n",
       "      <td>0</td>\n",
       "      <td>0</td>\n",
       "      <td>0.0</td>\n",
       "      <td>p</td>\n",
       "    </tr>\n",
       "    <tr>\n",
       "      <th>abernbr01</th>\n",
       "      <td>0</td>\n",
       "      <td>0</td>\n",
       "      <td>0</td>\n",
       "      <td>116</td>\n",
       "      <td>0</td>\n",
       "      <td>0</td>\n",
       "      <td>0</td>\n",
       "      <td>0</td>\n",
       "      <td>0</td>\n",
       "      <td>1.0</td>\n",
       "      <td>2b</td>\n",
       "    </tr>\n",
       "    <tr>\n",
       "      <th>abreubo01</th>\n",
       "      <td>0</td>\n",
       "      <td>0</td>\n",
       "      <td>0</td>\n",
       "      <td>0</td>\n",
       "      <td>0</td>\n",
       "      <td>0</td>\n",
       "      <td>0</td>\n",
       "      <td>18</td>\n",
       "      <td>148</td>\n",
       "      <td>0.0</td>\n",
       "      <td>rf</td>\n",
       "    </tr>\n",
       "    <tr>\n",
       "      <th>acevejo01</th>\n",
       "      <td>6</td>\n",
       "      <td>0</td>\n",
       "      <td>0</td>\n",
       "      <td>0</td>\n",
       "      <td>0</td>\n",
       "      <td>0</td>\n",
       "      <td>0</td>\n",
       "      <td>0</td>\n",
       "      <td>0</td>\n",
       "      <td>0.0</td>\n",
       "      <td>p</td>\n",
       "    </tr>\n",
       "    <tr>\n",
       "      <th>aceveju01</th>\n",
       "      <td>65</td>\n",
       "      <td>0</td>\n",
       "      <td>0</td>\n",
       "      <td>0</td>\n",
       "      <td>0</td>\n",
       "      <td>0</td>\n",
       "      <td>0</td>\n",
       "      <td>0</td>\n",
       "      <td>0</td>\n",
       "      <td>0.0</td>\n",
       "      <td>p</td>\n",
       "    </tr>\n",
       "  </tbody>\n",
       "</table>\n",
       "</div>"
      ],
      "text/plain": [
       "           G_p  G_c  G_1b  G_2b  G_3b  G_ss  G_lf  G_cf  G_rf  G_dh  \\\n",
       "playerID                                                              \n",
       "abbotpa01    7    0     0     0     0     0     0     0     0   0.0   \n",
       "abernbr01    0    0     0   116     0     0     0     0     0   1.0   \n",
       "abreubo01    0    0     0     0     0     0     0    18   148   0.0   \n",
       "acevejo01    6    0     0     0     0     0     0     0     0   0.0   \n",
       "aceveju01   65    0     0     0     0     0     0     0     0   0.0   \n",
       "\n",
       "          most_played_position  \n",
       "playerID                        \n",
       "abbotpa01                    p  \n",
       "abernbr01                   2b  \n",
       "abreubo01                   rf  \n",
       "acevejo01                    p  \n",
       "aceveju01                    p  "
      ]
     },
     "execution_count": 120,
     "metadata": {},
     "output_type": "execute_result"
    }
   ],
   "source": [
    "result.head()\n"
   ]
  },
  {
   "cell_type": "code",
   "execution_count": 121,
   "metadata": {
    "id": "c6D3GT7gLLf1"
   },
   "outputs": [],
   "source": [
    "player_salary_position = pd.merge(player_insights, result, on='playerID')\n",
    "player_salary_position.drop(position_names,axis=1,inplace=True)\n",
    "player_salary_position = player_salary_position[player_salary_position[\"most_played_position\"]!=\"p\"]"
   ]
  },
  {
   "cell_type": "code",
   "execution_count": 122,
   "metadata": {
    "id": "sHhhEh3mLLf2"
   },
   "outputs": [],
   "source": [
    "position_names = [\"p\",\"c\",\"1b\",\"2b\",\"3b\",\"ss\",\"lf\",\"cf\",\"rf\", \"dh\"]\n",
    "for position in position_names:\n",
    "    player_salary_position[\"chronicle_delta_\" + str(position)] = player_salary_position.apply(lambda x : 1 if x.most_played_position == position else 0,axis=1)"
   ]
  },
  {
   "cell_type": "markdown",
   "metadata": {
    "id": "5M9nx5sCLLf2"
   },
   "source": [
    "## Select the players given the maximum budget as 40 million dollars ##\n"
   ]
  },
  {
   "cell_type": "markdown",
   "metadata": {
    "id": "LDCSZIsULLf3"
   },
   "source": [
    "Please see reference link before proceeding the code : \n",
    "https://docs.python-mip.com/en/latest/examples.html"
   ]
  },
  {
   "cell_type": "markdown",
   "metadata": {
    "id": "0j0fxFIHiz9n"
   },
   "source": [
    "We can search for good deals by looking at players who produce many more runs than others with similar salaries. We can use this table to decide what players to pick and keep our total salary below the 40 million dollars Billy Beane had to work with. Another constraint is to have a player for every position."
   ]
  },
  {
   "cell_type": "markdown",
   "metadata": {
    "id": "ufjf4RNojGo6"
   },
   "source": []
  },
  {
   "cell_type": "code",
   "execution_count": 123,
   "metadata": {
    "id": "m2CMbcGBLLf4"
   },
   "outputs": [],
   "source": [
    "from mip import Model, xsum, maximize, BINARY"
   ]
  },
  {
   "cell_type": "code",
   "execution_count": 124,
   "metadata": {
    "id": "9CVd5JIcLLf4"
   },
   "outputs": [],
   "source": [
    "## Here p denotes predicted runs. p[i] denote the runs for the ith player.\n",
    "## Here w denotes the salary. w[i] denotes the salary for the ith player.\n",
    "## chronicle_delta_position column of the dataframe denotes whether the player plays on that corresponding position or not.\n",
    "p = player_salary_position[\"R_hat\"]\n",
    "w = player_salary_position[\"salary\"]\n",
    "\n",
    "c, I = 40000000, range(len(w))"
   ]
  },
  {
   "cell_type": "code",
   "execution_count": 125,
   "metadata": {
    "colab": {
     "base_uri": "https://localhost:8080/"
    },
    "id": "nycRzNGLLLf5",
    "outputId": "322252c3-01f8-45e6-c208-e5db37d77599"
   },
   "outputs": [
    {
     "name": "stdout",
     "output_type": "stream",
     "text": [
      "selected items: [54, 68, 70, 81, 110, 147, 186, 226, 245]\n"
     ]
    }
   ],
   "source": [
    "m = Model(\"knapsack\")\n",
    "\n",
    "x = [m.add_var(var_type=BINARY) for i in I]\n",
    "\n",
    "m.objective = maximize(xsum(p[i] * x[i] for i in I))\n",
    "\n",
    "m += xsum(w[i] * x[i] for i in I) <= c\n",
    "\n",
    "\n",
    "for position in position_names:\n",
    "    m += xsum(player_salary_position[\"chronicle_delta_\" + str(position)][i]*x[i] for i in I) == 1\n",
    "    \n",
    "\n",
    "\n",
    "m.optimize()\n",
    "\n",
    "selected = [i for i in I if x[i].x >= 0.99]\n",
    "print(\"selected items: {}\".format(selected))\n"
   ]
  },
  {
   "cell_type": "markdown",
   "metadata": {
    "id": "omRkiSXaLLf6"
   },
   "source": [
    "## Selected team ##"
   ]
  },
  {
   "cell_type": "code",
   "execution_count": 126,
   "metadata": {
    "colab": {
     "base_uri": "https://localhost:8080/",
     "height": 317
    },
    "id": "aM2GYVGJLLf7",
    "outputId": "0ae52a19-da84-41fe-eecd-a7b136ac45b4"
   },
   "outputs": [
    {
     "data": {
      "text/html": [
       "<div>\n",
       "<style scoped>\n",
       "    .dataframe tbody tr th:only-of-type {\n",
       "        vertical-align: middle;\n",
       "    }\n",
       "\n",
       "    .dataframe tbody tr th {\n",
       "        vertical-align: top;\n",
       "    }\n",
       "\n",
       "    .dataframe thead th {\n",
       "        text-align: right;\n",
       "    }\n",
       "</style>\n",
       "<table border=\"1\" class=\"dataframe\">\n",
       "  <thead>\n",
       "    <tr style=\"text-align: right;\">\n",
       "      <th></th>\n",
       "      <th>playerID</th>\n",
       "      <th>salary</th>\n",
       "      <th>nameFirst_x</th>\n",
       "      <th>nameLast_x</th>\n",
       "      <th>nameFirst_y</th>\n",
       "      <th>nameLast_y</th>\n",
       "      <th>HR</th>\n",
       "      <th>BB</th>\n",
       "      <th>singles</th>\n",
       "      <th>doubles</th>\n",
       "      <th>triples</th>\n",
       "      <th>R_hat</th>\n",
       "      <th>R_hat_linear</th>\n",
       "      <th>most_played_position</th>\n",
       "    </tr>\n",
       "  </thead>\n",
       "  <tbody>\n",
       "    <tr>\n",
       "      <th>54</th>\n",
       "      <td>thomafr04</td>\n",
       "      <td>9927000</td>\n",
       "      <td>Frank</td>\n",
       "      <td>Thomas</td>\n",
       "      <td>Frank</td>\n",
       "      <td>Thomas</td>\n",
       "      <td>1.822347</td>\n",
       "      <td>6.190195</td>\n",
       "      <td>5.958785</td>\n",
       "      <td>2.212850</td>\n",
       "      <td>0.028926</td>\n",
       "      <td>4.142781</td>\n",
       "      <td>8.503138</td>\n",
       "      <td>DH</td>\n",
       "    </tr>\n",
       "    <tr>\n",
       "      <th>68</th>\n",
       "      <td>encarju01</td>\n",
       "      <td>1550000</td>\n",
       "      <td>Juan</td>\n",
       "      <td>Encarnacion</td>\n",
       "      <td>Juan</td>\n",
       "      <td>Encarnacion</td>\n",
       "      <td>1.174810</td>\n",
       "      <td>1.728966</td>\n",
       "      <td>6.406040</td>\n",
       "      <td>1.861963</td>\n",
       "      <td>0.531990</td>\n",
       "      <td>4.134163</td>\n",
       "      <td>6.581550</td>\n",
       "      <td>RF</td>\n",
       "    </tr>\n",
       "    <tr>\n",
       "      <th>70</th>\n",
       "      <td>guerrwi01</td>\n",
       "      <td>850000</td>\n",
       "      <td>Wilton</td>\n",
       "      <td>Guerrero</td>\n",
       "      <td>Wilton</td>\n",
       "      <td>Guerrero</td>\n",
       "      <td>0.273038</td>\n",
       "      <td>1.414833</td>\n",
       "      <td>8.563463</td>\n",
       "      <td>1.265903</td>\n",
       "      <td>0.695006</td>\n",
       "      <td>4.165545</td>\n",
       "      <td>7.243522</td>\n",
       "      <td>2B</td>\n",
       "    </tr>\n",
       "    <tr>\n",
       "      <th>81</th>\n",
       "      <td>thomeji01</td>\n",
       "      <td>8000000</td>\n",
       "      <td>Jim</td>\n",
       "      <td>Thome</td>\n",
       "      <td>Jim</td>\n",
       "      <td>Thome</td>\n",
       "      <td>2.379175</td>\n",
       "      <td>7.112349</td>\n",
       "      <td>4.670233</td>\n",
       "      <td>1.825293</td>\n",
       "      <td>0.075529</td>\n",
       "      <td>4.242591</td>\n",
       "      <td>7.781848</td>\n",
       "      <td>1B</td>\n",
       "    </tr>\n",
       "    <tr>\n",
       "      <th>110</th>\n",
       "      <td>blumge01</td>\n",
       "      <td>315000</td>\n",
       "      <td>Geoff</td>\n",
       "      <td>Blum</td>\n",
       "      <td>Geoff</td>\n",
       "      <td>Blum</td>\n",
       "      <td>1.068871</td>\n",
       "      <td>3.282960</td>\n",
       "      <td>5.802442</td>\n",
       "      <td>1.985046</td>\n",
       "      <td>0.152696</td>\n",
       "      <td>4.119279</td>\n",
       "      <td>6.489053</td>\n",
       "      <td>3B</td>\n",
       "    </tr>\n",
       "    <tr>\n",
       "      <th>147</th>\n",
       "      <td>guzmacr01</td>\n",
       "      <td>1425000</td>\n",
       "      <td>Cristian</td>\n",
       "      <td>Guzman</td>\n",
       "      <td>Cristian</td>\n",
       "      <td>Guzman</td>\n",
       "      <td>0.450817</td>\n",
       "      <td>2.111724</td>\n",
       "      <td>6.619898</td>\n",
       "      <td>1.542270</td>\n",
       "      <td>0.877908</td>\n",
       "      <td>4.352747</td>\n",
       "      <td>6.779388</td>\n",
       "      <td>SS</td>\n",
       "    </tr>\n",
       "    <tr>\n",
       "      <th>186</th>\n",
       "      <td>hernara02</td>\n",
       "      <td>497500</td>\n",
       "      <td>Ramon</td>\n",
       "      <td>Hernandez</td>\n",
       "      <td>Ramon</td>\n",
       "      <td>Hernandez</td>\n",
       "      <td>1.126149</td>\n",
       "      <td>3.272871</td>\n",
       "      <td>6.017859</td>\n",
       "      <td>1.794800</td>\n",
       "      <td>0.000000</td>\n",
       "      <td>4.119279</td>\n",
       "      <td>6.214898</td>\n",
       "      <td>C</td>\n",
       "    </tr>\n",
       "    <tr>\n",
       "      <th>226</th>\n",
       "      <td>bondsba01</td>\n",
       "      <td>15000000</td>\n",
       "      <td>Barry</td>\n",
       "      <td>Bonds</td>\n",
       "      <td>Barry</td>\n",
       "      <td>Bonds</td>\n",
       "      <td>2.972654</td>\n",
       "      <td>8.190746</td>\n",
       "      <td>4.018824</td>\n",
       "      <td>1.913726</td>\n",
       "      <td>0.255163</td>\n",
       "      <td>4.309352</td>\n",
       "      <td>8.428869</td>\n",
       "      <td>LF</td>\n",
       "    </tr>\n",
       "    <tr>\n",
       "      <th>245</th>\n",
       "      <td>winnra01</td>\n",
       "      <td>960000</td>\n",
       "      <td>Randy</td>\n",
       "      <td>Winn</td>\n",
       "      <td>Randy</td>\n",
       "      <td>Winn</td>\n",
       "      <td>0.289369</td>\n",
       "      <td>3.183064</td>\n",
       "      <td>7.176362</td>\n",
       "      <td>1.591532</td>\n",
       "      <td>0.549802</td>\n",
       "      <td>4.141101</td>\n",
       "      <td>7.292522</td>\n",
       "      <td>CF</td>\n",
       "    </tr>\n",
       "  </tbody>\n",
       "</table>\n",
       "</div>"
      ],
      "text/plain": [
       "      playerID    salary nameFirst_x   nameLast_x nameFirst_y   nameLast_y  \\\n",
       "54   thomafr04   9927000       Frank       Thomas       Frank       Thomas   \n",
       "68   encarju01   1550000        Juan  Encarnacion        Juan  Encarnacion   \n",
       "70   guerrwi01    850000      Wilton     Guerrero      Wilton     Guerrero   \n",
       "81   thomeji01   8000000         Jim        Thome         Jim        Thome   \n",
       "110   blumge01    315000       Geoff         Blum       Geoff         Blum   \n",
       "147  guzmacr01   1425000    Cristian       Guzman    Cristian       Guzman   \n",
       "186  hernara02    497500       Ramon    Hernandez       Ramon    Hernandez   \n",
       "226  bondsba01  15000000       Barry        Bonds       Barry        Bonds   \n",
       "245   winnra01    960000       Randy         Winn       Randy         Winn   \n",
       "\n",
       "           HR        BB   singles   doubles   triples     R_hat  R_hat_linear  \\\n",
       "54   1.822347  6.190195  5.958785  2.212850  0.028926  4.142781      8.503138   \n",
       "68   1.174810  1.728966  6.406040  1.861963  0.531990  4.134163      6.581550   \n",
       "70   0.273038  1.414833  8.563463  1.265903  0.695006  4.165545      7.243522   \n",
       "81   2.379175  7.112349  4.670233  1.825293  0.075529  4.242591      7.781848   \n",
       "110  1.068871  3.282960  5.802442  1.985046  0.152696  4.119279      6.489053   \n",
       "147  0.450817  2.111724  6.619898  1.542270  0.877908  4.352747      6.779388   \n",
       "186  1.126149  3.272871  6.017859  1.794800  0.000000  4.119279      6.214898   \n",
       "226  2.972654  8.190746  4.018824  1.913726  0.255163  4.309352      8.428869   \n",
       "245  0.289369  3.183064  7.176362  1.591532  0.549802  4.141101      7.292522   \n",
       "\n",
       "    most_played_position  \n",
       "54                    DH  \n",
       "68                    RF  \n",
       "70                    2B  \n",
       "81                    1B  \n",
       "110                   3B  \n",
       "147                   SS  \n",
       "186                    C  \n",
       "226                   LF  \n",
       "245                   CF  "
      ]
     },
     "execution_count": 126,
     "metadata": {},
     "output_type": "execute_result"
    }
   ],
   "source": [
    "player_salary_position.drop([\"chronicle_delta_\" + str(position) for position in position_names],axis=1,inplace=True)\n",
    "player_salary_position[\"most_played_position\"] = player_salary_position[\"most_played_position\"].apply(lambda x :x.upper())\n",
    "selected_team=player_salary_position.iloc[selected]\n",
    "selected_team"
   ]
  },
  {
   "cell_type": "markdown",
   "metadata": {
    "id": "-gXXcuP6LLf7"
   },
   "source": [
    "## Subjective part: Did the resulting team changed?\n",
    "\n",
    "Yes the resulting team changed when I switched from the linear model to the Randomforest Regression model. And this change is mostly due to the variation in $\\hat{R}$ predictions.\n",
    "\n",
    "In the code above, I modified the fitting and prediction procedure to apply both models, the linear regression and the random forest regression. And in the final team selection, both predictions are shown. We can see that for each player, the randomforest regression generated predictions that are more \"stable\" than that of the linear regression. The variance was significantly less as well. So it's reasonable that the final selection would change. Below is a graph comparing the two predictions:\n"
   ]
  },
  {
   "cell_type": "code",
   "execution_count": 131,
   "metadata": {},
   "outputs": [
    {
     "data": {
      "text/plain": [
       "<matplotlib.axes._subplots.AxesSubplot at 0x13f292fb488>"
      ]
     },
     "execution_count": 131,
     "metadata": {},
     "output_type": "execute_result"
    },
    {
     "data": {
      "image/png": "[encoded data removed]",
      "text/plain": [
       "<Figure size 864x432 with 1 Axes>"
      ]
     },
     "metadata": {
      "needs_background": "light"
     },
     "output_type": "display_data"
    }
   ],
   "source": [
    "%matplotlib inline\n",
    "import matplotlib.pyplot as plt\n",
    "\n",
    "players_features[[\"R_hat\", \"R_hat_linear\"]].plot(figsize=(12,6))"
   ]
  },
  {
   "cell_type": "markdown",
   "metadata": {},
   "source": [
    "That leaves us with another question, that is which model should we trust? To answer it, we can calculate their performance measures on the training dataset."
   ]
  },
  {
   "cell_type": "code",
   "execution_count": 136,
   "metadata": {},
   "outputs": [
    {
     "name": "stdout",
     "output_type": "stream",
     "text": [
      "Randomforest Regression scored: 0.876\n",
      "Linear Regression scored: 0.937\n"
     ]
    }
   ],
   "source": [
    "from sklearn.model_selection import train_test_split\n",
    "\n",
    "# split the team runs and features dataset \n",
    "X_train, X_test, y_train, y_test = train_test_split(team_features, team_runs, test_size=0.33, random_state=1)\n",
    "\n",
    "# calculate the accuracy score for Randomforest regression\n",
    "model.fit(X_train, y_train)\n",
    "print(f\"Randomforest Regression scored: {model.score(X_test,  y_test):.3f}\")\n",
    "\n",
    "# calculate the accuracy score for linear regression\n",
    "linear_model.fit(X_train, y_train)\n",
    "print(f\"Linear Regression scored: {linear_model.score(X_test,  y_test):.3f}\")"
   ]
  },
  {
   "cell_type": "markdown",
   "metadata": {},
   "source": [
    "We can see that the linear regression actually performed better. So we should trust the draft with the linear model rather than the new Random Forest Regression."
   ]
  },
  {
   "cell_type": "code",
   "execution_count": null,
   "metadata": {},
   "outputs": [],
   "source": []
  }
 ],
 "metadata": {
  "colab": {
   "include_colab_link": true,
   "name": "assignment_1_exercise.ipynb",
   "provenance": []
  },
  "kernelspec": {
   "display_name": "Python 3",
   "language": "python",
   "name": "python3"
  },
  "language_info": {
   "codemirror_mode": {
    "name": "ipython",
    "version": 3
   },
   "file_extension": ".py",
   "mimetype": "text/x-python",
   "name": "python",
   "nbconvert_exporter": "python",
   "pygments_lexer": "ipython3",
   "version": "3.7.6"
  }
 },
 "nbformat": 4,
 "nbformat_minor": 5
}
